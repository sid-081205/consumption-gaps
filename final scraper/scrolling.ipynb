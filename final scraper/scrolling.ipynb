{
 "cells": [
  {
   "cell_type": "code",
   "execution_count": 1,
   "id": "b1ad3a93",
   "metadata": {},
   "outputs": [],
   "source": [
    "import time\n",
    "import pandas as pd\n",
    "from selenium import webdriver\n",
    "from selenium.webdriver.common.by import By\n",
    "from selenium.webdriver.chrome.options import Options\n",
    "from selenium.webdriver.support.ui import WebDriverWait\n",
    "from selenium.webdriver.support import expected_conditions as EC\n",
    "from selenium.common.exceptions import TimeoutException, NoSuchElementException"
   ]
  },
  {
   "cell_type": "code",
   "execution_count": 4,
   "id": "e669b949",
   "metadata": {},
   "outputs": [],
   "source": [
    "def reject_cookies(driver):\n",
    "    try:\n",
    "        WebDriverWait(driver, 7).until(\n",
    "            EC.presence_of_element_located((By.ID, \"onetrust-reject-all-handler\"))\n",
    "        ).click()\n",
    "    except (TimeoutException, NoSuchElementException):\n",
    "        print(\"Cookie banner not found or already rejected.\")"
   ]
  },
  {
   "cell_type": "code",
   "execution_count": 8,
   "id": "55cf8199",
   "metadata": {},
   "outputs": [],
   "source": [
    "def scroll_to_absolute_bottom(driver):\n",
    "\n",
    "    last_height = driver.execute_script(\"return document.body.scrollHeight\")\n",
    "    while True:\n",
    "        driver.execute_script(\"window.scrollTo(0, document.body.scrollHeight);\")\n",
    "        time.sleep(2)\n",
    "        new_height = driver.execute_script(\"return document.body.scrollHeight\")\n",
    "        if new_height == last_height:\n",
    "            break\n",
    "        last_height = new_height\n",
    "\n",
    "    skeleton_count = len(driver.find_elements(By.CSS_SELECTOR, \"div.sc-filq44-0.epZQps\"))\n",
    "    wrapper_count = len(driver.find_elements(By.CSS_SELECTOR, \"div.sc-filq44-0.iAbOJh\"))\n",
    "    print(f\"After scrolling to bottom: skeleton wrappers = {skeleton_count}, visible product wrappers = {wrapper_count}, total = {skeleton_count + wrapper_count}\")\n",
    "\n",
    "    driver.execute_script(\"window.scrollTo(0, 0);\")\n",
    "    time.sleep(2)"
   ]
  },
  {
   "cell_type": "code",
   "execution_count": 20,
   "id": "f2cd53fd",
   "metadata": {},
   "outputs": [
    {
     "name": "stdout",
     "output_type": "stream",
     "text": [
      "After scrolling to bottom: skeleton wrappers = 119, visible product wrappers = 5, total = 124\n"
     ]
    }
   ],
   "source": [
    "url = \"https://groceries.morrisons.com/search?q=period\"\n",
    "\n",
    "chrome_options = Options()\n",
    "chrome_options.add_argument(\"--window-size=1434,710\")  # Max width and height for Chrome\n",
    "driver = webdriver.Chrome(options=chrome_options)\n",
    "\n",
    "driver.get(url)\n",
    "reject_cookies(driver)\n",
    "time.sleep(2)\n",
    "\n",
    "scroll_to_absolute_bottom(driver)\n",
    "\n",
    "for _ in range(5):\n",
    "    driver.execute_script(\"window.scrollBy(0, 437);\")\n",
    "    time.sleep(2)\n"
   ]
  },
  {
   "cell_type": "code",
   "execution_count": null,
   "id": "5af1ef51",
   "metadata": {},
   "outputs": [],
   "source": []
  }
 ],
 "metadata": {
  "kernelspec": {
   "display_name": ".venv",
   "language": "python",
   "name": "python3"
  },
  "language_info": {
   "codemirror_mode": {
    "name": "ipython",
    "version": 3
   },
   "file_extension": ".py",
   "mimetype": "text/x-python",
   "name": "python",
   "nbconvert_exporter": "python",
   "pygments_lexer": "ipython3",
   "version": "3.13.3"
  }
 },
 "nbformat": 4,
 "nbformat_minor": 5
}
