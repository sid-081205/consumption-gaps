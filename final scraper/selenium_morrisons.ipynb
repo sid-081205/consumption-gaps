{
 "cells": [
  {
   "cell_type": "markdown",
   "id": "3c7e9e5f",
   "metadata": {},
   "source": [
    "## using similar logic to our sainsbury scraper - we extract product, price, link and category (new label) for our search query"
   ]
  },
  {
   "cell_type": "markdown",
   "id": "18dd36c2",
   "metadata": {},
   "source": []
  },
  {
   "cell_type": "code",
   "execution_count": null,
   "id": "74a7e84d",
   "metadata": {
    "vscode": {
     "languageId": "plaintext"
    }
   },
   "outputs": [],
   "source": []
  },
  {
   "cell_type": "code",
   "execution_count": null,
   "id": "b653bac6",
   "metadata": {},
   "outputs": [],
   "source": [
    "import time\n",
    "import pandas as pd\n",
    "from selenium import webdriver\n",
    "from selenium.webdriver.common.by import By\n",
    "from selenium.webdriver.chrome.options import Options\n",
    "from selenium.webdriver.support.ui import WebDriverWait\n",
    "from selenium.webdriver.support import expected_conditions as EC\n",
    "from selenium.common.exceptions import TimeoutException, NoSuchElementException\n",
    "\n",
    "# Helper: reject cookies\n",
    "\n",
    "def reject_cookies(driver):\n",
    "    try:\n",
    "        WebDriverWait(driver, 7).until(\n",
    "            EC.presence_of_element_located((By.ID, \"onetrust-reject-all-handler\"))\n",
    "        ).click()\n",
    "    except (TimeoutException, NoSuchElementException):\n",
    "        print(\"Cookie banner not found or already rejected.\")\n"
   ]
  },
  {
   "cell_type": "code",
   "execution_count": null,
   "id": "61813e04",
   "metadata": {},
   "outputs": [],
   "source": [
    "def scroll_to_bottom(driver, pause=1.5, max_attempts=20):\n",
    "    last_height = driver.execute_script(\"return document.body.scrollHeight\")\n",
    "    attempts = 0\n",
    "    while True:\n",
    "        driver.execute_script(\"window.scrollTo(0, document.body.scrollHeight);\")\n",
    "        time.sleep(pause)\n",
    "        try:\n",
    "            WebDriverWait(driver, 5).until(\n",
    "                EC.presence_of_element_located((By.CLASS_NAME, \"sc-filq44-0\"))\n",
    "            )\n",
    "        except Exception:\n",
    "            pass\n",
    "        new_height = driver.execute_script(\"return document.body.scrollHeight\")\n",
    "        if new_height == last_height or attempts >= max_attempts:\n",
    "            break\n",
    "        last_height = new_height\n",
    "        attempts += 1\n",
    "    # Small scroll up and down to trigger lazy loading\n",
    "    driver.execute_script(\"window.scrollTo(0, 100);\")\n",
    "    time.sleep(1)\n",
    "    driver.execute_script(\"window.scrollTo(0, 0);\")\n",
    "    time.sleep(1)\n",
    "    driver.execute_script(\"window.scrollTo(0, document.body.scrollHeight);\")\n",
    "    time.sleep(2)\n"
   ]
  },
  {
   "cell_type": "code",
   "execution_count": null,
   "id": "d77ed020",
   "metadata": {},
   "outputs": [],
   "source": [
    "def extract_product_data(element, current_category):\n",
    "    # Check for category header\n",
    "    try:\n",
    "        header_text = element.find_elements(By.XPATH, './/div[@class=\"outer-header-container\"]//span[@data-test=\"breadcrumb-text\"]')\n",
    "        if header_text and header_text[0].text.strip():\n",
    "            return None, header_text[0].text.strip()  # Return new category\n",
    "    except Exception:\n",
    "        pass\n",
    "    # title\n",
    "    try:\n",
    "        title_el = element.find_elements(By.XPATH, './/h3[@data-test=\"fop-title\"]')\n",
    "        title = title_el[0].text.strip() if title_el else None\n",
    "    except Exception:\n",
    "        title = None\n",
    "    # link\n",
    "    try:\n",
    "        link_el = element.find_elements(By.XPATH, './/a[@data-test=\"fop-product-link\"]')\n",
    "        link = link_el[0].get_attribute('href') if link_el else None\n",
    "    except Exception:\n",
    "        link = None\n",
    "    # price\n",
    "    try:\n",
    "        price_el = element.find_elements(By.XPATH, './/span[@data-test=\"fop-price\"]')\n",
    "        price = price_el[0].text.strip() if price_el else None\n",
    "    except Exception:\n",
    "        price = None\n",
    "    if title and price:\n",
    "        return {\n",
    "            'category': current_category,\n",
    "            'title': title,\n",
    "            'price': price,\n",
    "            'link': link\n",
    "        }, current_category\n",
    "    else:\n",
    "        return None, current_category\n"
   ]
  },
  {
   "cell_type": "code",
   "execution_count": null,
   "id": "35499b62",
   "metadata": {},
   "outputs": [],
   "source": [
    "# Start URL for Morrisons search (edit as needed)\n",
    "start_url = \"https://groceries.morrisons.com/search?q=bread\"\n",
    "\n",
    "driver = webdriver.Chrome()\n",
    "driver.get(start_url)\n",
    "reject_cookies(driver)\n",
    "scroll_to_bottom(driver)\n",
    "\n",
    "product_elements = driver.find_elements(By.XPATH, '//div[contains(@class, \"sc-filq44-0\")]')\n",
    "\n",
    "all_products = []\n",
    "current_category = \"No Category\"\n",
    "for element in product_elements:\n",
    "    product, new_category = extract_product_data(element, current_category)\n",
    "    if new_category != current_category:\n",
    "        current_category = new_category\n",
    "        continue  # skip category header elements\n",
    "    if product:\n",
    "        all_products.append(product)\n",
    "\n",
    "driver.quit()\n",
    "\n",
    "# Convert to DataFrame\n",
    "morrisons_df = pd.DataFrame(all_products, columns=[\"category\", \"title\", \"price\", \"link\"])\n"
   ]
  },
  {
   "cell_type": "code",
   "execution_count": null,
   "id": "177cd069",
   "metadata": {},
   "outputs": [],
   "source": [
    "morrisons_df"
   ]
  }
 ],
 "metadata": {
  "language_info": {
   "name": "python"
  }
 },
 "nbformat": 4,
 "nbformat_minor": 5
}
