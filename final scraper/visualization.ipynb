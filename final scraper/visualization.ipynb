{
 "cells": [
  {
   "cell_type": "markdown",
   "id": "73dbb7c4",
   "metadata": {},
   "source": [
    "## let's now visualize our data in terms of nutrient"
   ]
  },
  {
   "cell_type": "code",
   "execution_count": null,
   "id": "fbbb8c32",
   "metadata": {},
   "outputs": [],
   "source": [
    "import pandas as pd\n",
    "import sqlite3\n",
    "import re\n",
    "import numpy as np\n",
    "import plotly.express as px\n",
    "import nbformat\n",
    "import matplotlib.pyplot as plt\n",
    "from matplotlib.widgets import CheckButtons\n",
    "import plotly.graph_objects as go\n",
    "from plotly.subplots import make_subplots"
   ]
  },
  {
   "cell_type": "code",
   "execution_count": 2,
   "id": "71957297",
   "metadata": {},
   "outputs": [],
   "source": [
    "db_path = \"/Users/siddharthgianchandani/Desktop/vscode projects/consumption-gaps/final scraper/trying_morrisons/morrisons_products.db\"\n",
    "conn = sqlite3.connect(db_path)\n",
    "df = pd.read_sql_query(\"SELECT * FROM products\", conn)\n",
    "conn.close()"
   ]
  },
  {
   "cell_type": "code",
   "execution_count": 3,
   "id": "0447142e",
   "metadata": {},
   "outputs": [],
   "source": [
    "def extract_kj(energy_str):\n",
    "    if not isinstance(energy_str, str):\n",
    "        return np.nan\n",
    "    # trying to find a number followed by 'kJ'\n",
    "    match = re.search(r'(\\d+)\\s*kJ', energy_str)\n",
    "    if match:\n",
    "        return int(match.group(1))\n",
    "    # sometimes just a number\n",
    "    match = re.search(r'(\\d+)', energy_str)\n",
    "    if match:\n",
    "        return int(match.group(1))\n",
    "    return np.nan\n",
    "\n",
    "def extract_grams(val):\n",
    "    if not isinstance(val, str):\n",
    "        return np.nan\n",
    "    # handle \"<0.5g\" or similar\n",
    "    match = re.search(r'([\\d\\.]+)', val)\n",
    "    if match:\n",
    "        return float(match.group(1))\n",
    "    return np.nan"
   ]
  },
  {
   "cell_type": "code",
   "execution_count": 14,
   "id": "057b09f5",
   "metadata": {},
   "outputs": [],
   "source": [
    "# cleaning the data\n",
    "\n",
    "df['energy_kj'] = df['energy_per_100g'].apply(extract_kj)\n",
    "df['fat_g'] = df['fat_per_100g'].apply(extract_grams)\n",
    "df['sat_fat_g'] = df['saturated_fat_per_100g'].apply(extract_grams)\n",
    "df['protein_g'] = df['protein_per_100g'].apply(extract_grams)\n",
    "df['price'] = df['price'].replace({'£': ''}, regex=True).astype(float)\n",
    "\n",
    "# drop rows with missing values in any relevant columns\n",
    "df_clean = df.dropna(subset=['energy_kj', 'fat_g', 'sat_fat_g', 'protein_g', 'category', 'title'])"
   ]
  },
  {
   "cell_type": "code",
   "execution_count": 15,
   "id": "4314d6a6",
   "metadata": {},
   "outputs": [
    {
     "name": "stderr",
     "output_type": "stream",
     "text": [
      "/var/folders/zz/k81wn_s93cdffqmg3682c6dc0000gn/T/ipykernel_30465/2331283605.py:1: SettingWithCopyWarning:\n",
      "\n",
      "\n",
      "A value is trying to be set on a copy of a slice from a DataFrame.\n",
      "Try using .loc[row_indexer,col_indexer] = value instead\n",
      "\n",
      "See the caveats in the documentation: https://pandas.pydata.org/pandas-docs/stable/user_guide/indexing.html#returning-a-view-versus-a-copy\n",
      "\n"
     ]
    }
   ],
   "source": [
    "df_clean['protein_per_energy'] = df_clean['protein_g'] / df_clean['energy_kj'].replace(0, np.nan)\n",
    "\n",
    "df_clean = df_clean.replace([np.inf, -np.inf], np.nan).dropna(subset=['protein_per_energy'])\n",
    "df_clean = df_clean.drop(columns=['energy_per_100g', 'fat_per_100g', 'saturated_fat_per_100g', 'protein_per_100g', 'link', 'energy_kj', 'protein_g'])"
   ]
  },
  {
   "cell_type": "code",
   "execution_count": 16,
   "id": "9cf09fa8",
   "metadata": {},
   "outputs": [
    {
     "data": {
      "text/html": [
       "<div>\n",
       "<style scoped>\n",
       "    .dataframe tbody tr th:only-of-type {\n",
       "        vertical-align: middle;\n",
       "    }\n",
       "\n",
       "    .dataframe tbody tr th {\n",
       "        vertical-align: top;\n",
       "    }\n",
       "\n",
       "    .dataframe thead th {\n",
       "        text-align: right;\n",
       "    }\n",
       "</style>\n",
       "<table border=\"1\" class=\"dataframe\">\n",
       "  <thead>\n",
       "    <tr style=\"text-align: right;\">\n",
       "      <th></th>\n",
       "      <th>id</th>\n",
       "      <th>category</th>\n",
       "      <th>title</th>\n",
       "      <th>price</th>\n",
       "      <th>fat_g</th>\n",
       "      <th>sat_fat_g</th>\n",
       "      <th>protein_per_energy</th>\n",
       "    </tr>\n",
       "  </thead>\n",
       "  <tbody>\n",
       "    <tr>\n",
       "      <th>5</th>\n",
       "      <td>6</td>\n",
       "      <td>Orange</td>\n",
       "      <td>Tropicana Original Orange Juice</td>\n",
       "      <td>2.25</td>\n",
       "      <td>0.00</td>\n",
       "      <td>0.00</td>\n",
       "      <td>0.004571</td>\n",
       "    </tr>\n",
       "    <tr>\n",
       "      <th>6</th>\n",
       "      <td>7</td>\n",
       "      <td>Orange</td>\n",
       "      <td>Tropicana Multi Vitamins Juice</td>\n",
       "      <td>2.25</td>\n",
       "      <td>0.00</td>\n",
       "      <td>0.00</td>\n",
       "      <td>0.002000</td>\n",
       "    </tr>\n",
       "    <tr>\n",
       "      <th>7</th>\n",
       "      <td>8</td>\n",
       "      <td>Orange</td>\n",
       "      <td>Innocent Smooth Orange Juice</td>\n",
       "      <td>3.20</td>\n",
       "      <td>0.00</td>\n",
       "      <td>0.00</td>\n",
       "      <td>0.004545</td>\n",
       "    </tr>\n",
       "    <tr>\n",
       "      <th>8</th>\n",
       "      <td>9</td>\n",
       "      <td>Orange</td>\n",
       "      <td>Innocent Orange Juice with Bits</td>\n",
       "      <td>3.20</td>\n",
       "      <td>0.00</td>\n",
       "      <td>0.00</td>\n",
       "      <td>0.005128</td>\n",
       "    </tr>\n",
       "    <tr>\n",
       "      <th>11</th>\n",
       "      <td>12</td>\n",
       "      <td>Orange</td>\n",
       "      <td>Innocent Smooth Orange Juice</td>\n",
       "      <td>4.40</td>\n",
       "      <td>0.00</td>\n",
       "      <td>0.00</td>\n",
       "      <td>0.004545</td>\n",
       "    </tr>\n",
       "    <tr>\n",
       "      <th>...</th>\n",
       "      <td>...</td>\n",
       "      <td>...</td>\n",
       "      <td>...</td>\n",
       "      <td>...</td>\n",
       "      <td>...</td>\n",
       "      <td>...</td>\n",
       "      <td>...</td>\n",
       "    </tr>\n",
       "    <tr>\n",
       "      <th>332</th>\n",
       "      <td>333</td>\n",
       "      <td>Beer, Wines &amp; Spirits</td>\n",
       "      <td>Trip CBD Infused Raspberry Orange Blossom</td>\n",
       "      <td>5.50</td>\n",
       "      <td>0.00</td>\n",
       "      <td>0.00</td>\n",
       "      <td>0.000000</td>\n",
       "    </tr>\n",
       "    <tr>\n",
       "      <th>333</th>\n",
       "      <td>334</td>\n",
       "      <td>Beer, Wines &amp; Spirits</td>\n",
       "      <td>Goodrays CBD Infused Blood Orange &amp; Grapefruit...</td>\n",
       "      <td>2.50</td>\n",
       "      <td>0.00</td>\n",
       "      <td>0.00</td>\n",
       "      <td>0.000000</td>\n",
       "    </tr>\n",
       "    <tr>\n",
       "      <th>336</th>\n",
       "      <td>337</td>\n",
       "      <td>Beer, Wines &amp; Spirits</td>\n",
       "      <td>Bonne Maman Chocolate &amp; Orange Spread</td>\n",
       "      <td>3.00</td>\n",
       "      <td>4.50</td>\n",
       "      <td>2.60</td>\n",
       "      <td>0.002064</td>\n",
       "    </tr>\n",
       "    <tr>\n",
       "      <th>337</th>\n",
       "      <td>338</td>\n",
       "      <td>Beer, Wines &amp; Spirits</td>\n",
       "      <td>Tassimo Cadbury Orange Hot Chocolate Pods x8</td>\n",
       "      <td>5.30</td>\n",
       "      <td>0.90</td>\n",
       "      <td>0.80</td>\n",
       "      <td>0.007619</td>\n",
       "    </tr>\n",
       "    <tr>\n",
       "      <th>338</th>\n",
       "      <td>339</td>\n",
       "      <td>Beer, Wines &amp; Spirits</td>\n",
       "      <td>Tassimo Cadbury Orange Hot Chocolate 10 Cups</td>\n",
       "      <td>5.30</td>\n",
       "      <td>0.87</td>\n",
       "      <td>0.76</td>\n",
       "      <td>0.008130</td>\n",
       "    </tr>\n",
       "  </tbody>\n",
       "</table>\n",
       "<p>155 rows × 7 columns</p>\n",
       "</div>"
      ],
      "text/plain": [
       "      id               category  \\\n",
       "5      6                 Orange   \n",
       "6      7                 Orange   \n",
       "7      8                 Orange   \n",
       "8      9                 Orange   \n",
       "11    12                 Orange   \n",
       "..   ...                    ...   \n",
       "332  333  Beer, Wines & Spirits   \n",
       "333  334  Beer, Wines & Spirits   \n",
       "336  337  Beer, Wines & Spirits   \n",
       "337  338  Beer, Wines & Spirits   \n",
       "338  339  Beer, Wines & Spirits   \n",
       "\n",
       "                                                 title  price  fat_g  \\\n",
       "5                      Tropicana Original Orange Juice   2.25   0.00   \n",
       "6                       Tropicana Multi Vitamins Juice   2.25   0.00   \n",
       "7                         Innocent Smooth Orange Juice   3.20   0.00   \n",
       "8                      Innocent Orange Juice with Bits   3.20   0.00   \n",
       "11                        Innocent Smooth Orange Juice   4.40   0.00   \n",
       "..                                                 ...    ...    ...   \n",
       "332          Trip CBD Infused Raspberry Orange Blossom   5.50   0.00   \n",
       "333  Goodrays CBD Infused Blood Orange & Grapefruit...   2.50   0.00   \n",
       "336              Bonne Maman Chocolate & Orange Spread   3.00   4.50   \n",
       "337       Tassimo Cadbury Orange Hot Chocolate Pods x8   5.30   0.90   \n",
       "338       Tassimo Cadbury Orange Hot Chocolate 10 Cups   5.30   0.87   \n",
       "\n",
       "     sat_fat_g  protein_per_energy  \n",
       "5         0.00            0.004571  \n",
       "6         0.00            0.002000  \n",
       "7         0.00            0.004545  \n",
       "8         0.00            0.005128  \n",
       "11        0.00            0.004545  \n",
       "..         ...                 ...  \n",
       "332       0.00            0.000000  \n",
       "333       0.00            0.000000  \n",
       "336       2.60            0.002064  \n",
       "337       0.80            0.007619  \n",
       "338       0.76            0.008130  \n",
       "\n",
       "[155 rows x 7 columns]"
      ]
     },
     "execution_count": 16,
     "metadata": {},
     "output_type": "execute_result"
    }
   ],
   "source": [
    "df_clean"
   ]
  },
  {
   "cell_type": "code",
   "execution_count": 33,
   "id": "c2f3df42",
   "metadata": {},
   "outputs": [
    {
     "data": {
      "application/vnd.plotly.v1+json": {
       "config": {
        "plotlyServerURL": "https://plot.ly"
       },
       "data": [
        {
         "hovertemplate": "<b>%{text}</b><br>Price: %{x}<br>Protein/Energy: %{y}<br>Fat: %{marker.color}<extra></extra>",
         "marker": {
          "color": {
           "bdata": "AAAAAAAAAAAAAAAAAAAAAAAAAAAAAAAAAAAAAAAAAAAAAAAAAAAAAAAAAAAAAAAAAAAAAAAAAAAAAAAAAAAAAAAAAAAAAAAAAAAAAAAAAAAAAAAAAAAAAAAAAAAAAAAAAAAAAAAAAAAAAAAAAAAAAAAAAAAAAAAAAAAAAAAAAAAAAAAAAAAAAAAAAAAAAAAAAAAAAAAAAAAAAAAAAAAAAAAAAAAAAAAAAAAAAAAAAAAAAAAAAAAAAAAAAAAAAAAAmpmZmZmZuT8AAAAAAAAAAAAAAAAAAAAAAAAAAAAAAAAAAAAAAAAAAAAAAAAAAAAA",
           "dtype": "f8"
          },
          "colorbar": {
           "title": {
            "text": "Fat (g)"
           }
          },
          "colorscale": [
           [
            0,
            "rgb(255,245,240)"
           ],
           [
            0.125,
            "rgb(254,224,210)"
           ],
           [
            0.25,
            "rgb(252,187,161)"
           ],
           [
            0.375,
            "rgb(252,146,114)"
           ],
           [
            0.5,
            "rgb(251,106,74)"
           ],
           [
            0.625,
            "rgb(239,59,44)"
           ],
           [
            0.75,
            "rgb(203,24,29)"
           ],
           [
            0.875,
            "rgb(165,15,21)"
           ],
           [
            1,
            "rgb(103,0,13)"
           ]
          ],
          "line": {
           "width": 0
          },
          "size": 11
         },
         "mode": "markers",
         "name": "Orange",
         "text": [
          "Tropicana Original Orange Juice",
          "Tropicana Multi Vitamins Juice",
          "Innocent Smooth Orange Juice",
          "Innocent Orange Juice with Bits",
          "Innocent Smooth Orange Juice",
          "Tropicana Long Life Pure Smooth Orange Fruit Juice",
          "Tropicana Long Life Pure Original Orange Fruit Juice",
          "Innocent Orange Juice with Bits",
          "Tropicana Original Orange with Juicy Bits",
          "Tropicana Pure Orange Fruit Juice with Extra Juicy Bits",
          "Tropicana Pure Smooth Orange Fruit Juice",
          "Vimto Squash Blood Orange Lemon & Lime",
          "Fanta Orange",
          "Fanta Orange Cans",
          "Fanta Orange Zero",
          "IRN-BRU 1901 Soft Drink",
          "Fanta Lemon Soft Drink",
          "Fanta Orange Cans",
          "Fanta Orange Zero",
          "Fanta Orange",
          "Fanta Orange",
          "Crodo Orange Soda",
          "San Pellegrino Orange Cans",
          "San Pellegrino Blood Orange Cans",
          "Lowes Sugar Free Orangeade 2L",
          "Fanta Orange Cans",
          "Fanta Orange",
          "Fanta Orange Zero",
          "Fanta Orange Zero Cans",
          "Fanta Orange Cans"
         ],
         "type": "scatter",
         "visible": true,
         "x": {
          "bdata": "AAAAAAAAAkAAAAAAAAACQJqZmZmZmQlAmpmZmZmZCUCamZmZmZkRQAAAAAAAAARAAAAAAAAABECamZmZmZkRQAAAAAAAAApAAAAAAAAACkAAAAAAAAAKQAAAAAAAAABAMzMzMzMz/z8AAAAAAAAEQDMzMzMzM/8/AAAAAAAAAEAzMzMzMzP/PwAAAAAAABxAMzMzMzMzAUDNzMzMzMzkPzMzMzMzMwFAzczMzMzM9D8zMzMzMzMTQDMzMzMzMxNAAAAAAAAA6D+amZmZmZkLQAAAAAAAAChAAAAAAAAAKEAAAAAAAAAOQAAAAAAAAA5A",
          "dtype": "f8"
         },
         "y": {
          "bdata": "jlRdg325cj/8qfHSTWJgP54S5ClBnnI/FVABFVABdT+eEuQpQZ5yP5DRMAEZDXM/jlRdg325cj8VUAEVUAF1P45UXYN9uXI//X4FmVODcj+Q0TABGQ1zPwAAAAAAAAAAAAAAAAAAAAAAAAAAAAAAAAAAAAAAAAAAAAAAAAAAAAAAAAAAAAAAAAAAAAAAAAAAAAAAAAAAAAAAAAAAAAAAAAAAAAAAAAAAAAAAAAAAAAD7E7A/AftTP0cT4Kx5RlM/nxLkKUGegj8AAAAAAAAAAAAAAAAAAAAAAAAAAAAAAAAAAAAAAAAAAAAAAAAAAAAA",
          "dtype": "f8"
         }
        },
        {
         "hovertemplate": "<b>%{text}</b><br>Price: %{x}<br>Protein/Energy: %{y}<br>Fat: %{marker.color}<extra></extra>",
         "marker": {
          "color": {
           "bdata": "mpmZmZmZ2T/NzMzMzEw5QA==",
           "dtype": "f8"
          },
          "colorbar": {
           "title": {
            "text": "Fat (g)"
           }
          },
          "colorscale": [
           [
            0,
            "rgb(255,245,240)"
           ],
           [
            0.125,
            "rgb(254,224,210)"
           ],
           [
            0.25,
            "rgb(252,187,161)"
           ],
           [
            0.375,
            "rgb(252,146,114)"
           ],
           [
            0.5,
            "rgb(251,106,74)"
           ],
           [
            0.625,
            "rgb(239,59,44)"
           ],
           [
            0.75,
            "rgb(203,24,29)"
           ],
           [
            0.875,
            "rgb(165,15,21)"
           ],
           [
            1,
            "rgb(103,0,13)"
           ]
          ],
          "line": {
           "width": 0
          },
          "size": 11
         },
         "mode": "markers",
         "name": "Events, Inspiration & Ways To Save",
         "text": [
          "Morrisons The Best Diced Italian Orange",
          "Market Street Deli Duck & Orange Pate"
         ],
         "type": "scatter",
         "visible": false,
         "x": {
          "bdata": "AAAAAAAACkAAAAAAAADoPw==",
          "dtype": "f8"
         },
         "y": {
          "bdata": "BhhggAEGOD+E7+dC/yp+Pw==",
          "dtype": "f8"
         }
        },
        {
         "hovertemplate": "<b>%{text}</b><br>Price: %{x}<br>Protein/Energy: %{y}<br>Fat: %{marker.color}<extra></extra>",
         "marker": {
          "color": {
           "bdata": "AAAAAAAAAAAAAAAAAADgPwAAAAAAAAAAAAAAAAAAAACamZmZmZnJPwAAAAAAAAAAAAAAAAAAAAA=",
           "dtype": "f8"
          },
          "colorbar": {
           "title": {
            "text": "Fat (g)"
           }
          },
          "colorscale": [
           [
            0,
            "rgb(255,245,240)"
           ],
           [
            0.125,
            "rgb(254,224,210)"
           ],
           [
            0.25,
            "rgb(252,187,161)"
           ],
           [
            0.375,
            "rgb(252,146,114)"
           ],
           [
            0.5,
            "rgb(251,106,74)"
           ],
           [
            0.625,
            "rgb(239,59,44)"
           ],
           [
            0.75,
            "rgb(203,24,29)"
           ],
           [
            0.875,
            "rgb(165,15,21)"
           ],
           [
            1,
            "rgb(103,0,13)"
           ]
          ],
          "line": {
           "width": 0
          },
          "size": 11
         },
         "mode": "markers",
         "name": "Chilled Juice",
         "text": [
          "Tropicana Original Orange With Juicy Bits",
          "Innocent Orange Juice Smooth",
          "Tropicana Smooth Orange",
          "Tropicana Fresh & Light Orange 850ml",
          "Morrisons The Best Freshly Squeezed Orange Juice with Bits",
          "Tropicana Pure Orange & Mango Fruit Juice",
          "Sunny D Tangy Florida"
         ],
         "type": "scatter",
         "visible": false,
         "x": {
          "bdata": "AAAAAAAADEAAAAAAAAAMQAAAAAAAAAxAAAAAAAAA/D8zMzMzMzMJQAAAAAAAAApAmpmZmZmZ8T8=",
          "dtype": "f8"
         },
         "y": {
          "bdata": "jlRdg325cj/h8EsrMj5zP5DRMAEZDXM/AAAAAAAAAACUtQ1V8OdxP4YRQPrihXE/F2zBFmzBZj8=",
          "dtype": "f8"
         }
        },
        {
         "hovertemplate": "<b>%{text}</b><br>Price: %{x}<br>Protein/Energy: %{y}<br>Fat: %{marker.color}<extra></extra>",
         "marker": {
          "color": {
           "bdata": "MzMzMzNzQEAAAAAAAAA9QAAAAAAAAEBAAAAAAAAAPUAAAAAAAAA7QAAAAAAAAD1AmpmZmZkZPkAAAAAAAAA9QA==",
           "dtype": "f8"
          },
          "colorbar": {
           "title": {
            "text": "Fat (g)"
           }
          },
          "colorscale": [
           [
            0,
            "rgb(255,245,240)"
           ],
           [
            0.125,
            "rgb(254,224,210)"
           ],
           [
            0.25,
            "rgb(252,187,161)"
           ],
           [
            0.375,
            "rgb(252,146,114)"
           ],
           [
            0.5,
            "rgb(251,106,74)"
           ],
           [
            0.625,
            "rgb(239,59,44)"
           ],
           [
            0.75,
            "rgb(203,24,29)"
           ],
           [
            0.875,
            "rgb(165,15,21)"
           ],
           [
            1,
            "rgb(103,0,13)"
           ]
          ],
          "line": {
           "width": 0
          },
          "size": 11
         },
         "mode": "markers",
         "name": "Chocolate",
         "text": [
          "Morrisons The Best 52% Cocoa Dark Chocolate With Orange",
          "Terry's Chocolate Orange Bar",
          "Lindt Excellence Intense Orange Dark Chocolate",
          "Terry's Chocolate Orange Bars 3 x 35g",
          "Ritter Sport Orange",
          "Terry's Milk Chocolate Orange",
          "Aero Melts Orange Pouch",
          "Terry's Chocolate Orange Minis Chocolate Bag"
         ],
         "type": "scatter",
         "visible": false,
         "x": {
          "bdata": "MzMzMzMzA0CamZmZmZn1PwAAAAAAAAhAmpmZmZmZ9T9mZmZmZmb+PwAAAAAAAABAAAAAAAAA+D8AAAAAAAD4Pw==",
          "dtype": "f8"
         },
         "y": {
          "bdata": "6gZMRO9HZz/rRXuVLbdlP5BUcuMqB2k/60V7lS23ZT+flHAhhsdXP+tFe5Utt2U/uKON7WQGaT/rRXuVLbdlPw==",
          "dtype": "f8"
         }
        },
        {
         "hovertemplate": "<b>%{text}</b><br>Price: %{x}<br>Protein/Energy: %{y}<br>Fat: %{marker.color}<extra></extra>",
         "marker": {
          "color": {
           "bdata": "AAAAAAAAAAA=",
           "dtype": "f8"
          },
          "colorbar": {
           "title": {
            "text": "Fat (g)"
           }
          },
          "colorscale": [
           [
            0,
            "rgb(255,245,240)"
           ],
           [
            0.125,
            "rgb(254,224,210)"
           ],
           [
            0.25,
            "rgb(252,187,161)"
           ],
           [
            0.375,
            "rgb(252,146,114)"
           ],
           [
            0.5,
            "rgb(251,106,74)"
           ],
           [
            0.625,
            "rgb(239,59,44)"
           ],
           [
            0.75,
            "rgb(203,24,29)"
           ],
           [
            0.875,
            "rgb(165,15,21)"
           ],
           [
            1,
            "rgb(103,0,13)"
           ]
          ],
          "line": {
           "width": 0
          },
          "size": 11
         },
         "mode": "markers",
         "name": "Tropical & Other Citrus",
         "text": [
          "Innocent Plus Citrus Shield Orange & Carrot Juice With Vitamins"
         ],
         "type": "scatter",
         "visible": false,
         "x": {
          "bdata": "AAAAAAAAEEA=",
          "dtype": "f8"
         },
         "y": {
          "bdata": "AAAAAAAAAAA=",
          "dtype": "f8"
         }
        },
        {
         "hovertemplate": "<b>%{text}</b><br>Price: %{x}<br>Protein/Energy: %{y}<br>Fat: %{marker.color}<extra></extra>",
         "marker": {
          "color": {
           "bdata": "AAAAAAAAAAA=",
           "dtype": "f8"
          },
          "colorbar": {
           "title": {
            "text": "Fat (g)"
           }
          },
          "colorscale": [
           [
            0,
            "rgb(255,245,240)"
           ],
           [
            0.125,
            "rgb(254,224,210)"
           ],
           [
            0.25,
            "rgb(252,187,161)"
           ],
           [
            0.375,
            "rgb(252,146,114)"
           ],
           [
            0.5,
            "rgb(251,106,74)"
           ],
           [
            0.625,
            "rgb(239,59,44)"
           ],
           [
            0.75,
            "rgb(203,24,29)"
           ],
           [
            0.875,
            "rgb(165,15,21)"
           ],
           [
            1,
            "rgb(103,0,13)"
           ]
          ],
          "line": {
           "width": 0
          },
          "size": 11
         },
         "mode": "markers",
         "name": "Kids & Lunchbox Drinks",
         "text": [
          "Tropicana Pure Smooth Orange Fruit Juice Multipack"
         ],
         "type": "scatter",
         "visible": false,
         "x": {
          "bdata": "AAAAAAAACkA=",
          "dtype": "f8"
         },
         "y": {
          "bdata": "kNEwARkNcz8=",
          "dtype": "f8"
         }
        },
        {
         "hovertemplate": "<b>%{text}</b><br>Price: %{x}<br>Protein/Energy: %{y}<br>Fat: %{marker.color}<extra></extra>",
         "marker": {
          "color": {
           "bdata": "mpmZmZmZuT8AAAAAAADgPwAAAAAAAOA/MzMzMzMz0z8AAAAAAAAAAAAAAAAAAAAAmpmZmZmZuT/NzMzMzMzsPwAAAAAAAAAAmpmZmZmZuT+amZmZmZm5PwAAAAAAAAAAAAAAAAAAAAAAAAAAAAAAAAAAAAAAAAAAAAAAAAAAAACamZmZmZnZPw==",
           "dtype": "f8"
          },
          "colorbar": {
           "title": {
            "text": "Fat (g)"
           }
          },
          "colorscale": [
           [
            0,
            "rgb(255,245,240)"
           ],
           [
            0.125,
            "rgb(254,224,210)"
           ],
           [
            0.25,
            "rgb(252,187,161)"
           ],
           [
            0.375,
            "rgb(252,146,114)"
           ],
           [
            0.5,
            "rgb(251,106,74)"
           ],
           [
            0.625,
            "rgb(239,59,44)"
           ],
           [
            0.75,
            "rgb(203,24,29)"
           ],
           [
            0.875,
            "rgb(165,15,21)"
           ],
           [
            1,
            "rgb(103,0,13)"
           ]
          ],
          "line": {
           "width": 0
          },
          "size": 11
         },
         "mode": "markers",
         "name": "Orange Marmalades",
         "text": [
          "Bonne Maman Bitter Orange Marmalade",
          "Frank Cooper's Fine Cut Oxford Marmalade",
          "Frank Cooper's Original Oxford Marmalade",
          "Morrisons The Best Seville Orange Marmalade",
          "La Vieja Fabrica Seville Orange St Clements Marmalade",
          "La Vieja Fabrica Seville Orange Fine Cut Marmalade",
          "Bonne Maman Marmalade",
          "Morrisons The Best Orange & Ginger Marmalade",
          "Mackays Vintage Dundee Orange Marmalade",
          "Duerr's Thick Cut Classic Seville Orange Marmalade",
          "Duerr's Fine Cut Seville Orange Marmalade",
          "Mackays Seville Orange Marmalade",
          "Mackays The Dundee Orange Marmalade",
          "Robertson's Golden Shred Marmalade",
          "Mackays Three Fruit Marmalade",
          "Robertson's Golden Shredless Marmalade",
          "Morrisons Reduced Sugar Fine Cut Orange Marmalade"
         ],
         "type": "scatter",
         "visible": false,
         "x": {
          "bdata": "ZmZmZmZmAkAAAAAAAAAEQAAAAAAAAARAzczMzMzM/D8AAAAAAAAEQDMzMzMzMwFAzczMzMzM5D+kcD0K16P8PwAAAAAAAABAAAAAAAAA+D8AAAAAAAD4PwAAAAAAAABAAAAAAAAAAEBSuB6F61ECQAAAAAAAAABAUrgehetRAkAAAAAAAADwPw==",
          "dtype": "f8"
         },
         "y": {
          "bdata": "cJ41AedZMz+l07Op4No+P83eAUjU7D0/OnzjllVaMT/bPVzGEmpBP7GpNOTcZzc/gFA1AQhVMz8YDar/uXwlPwAAAAAAAAAADgfxpOdGQj99RBnauOo/P4TuMvHGKzE/hO4y8cYrMT9Xb4qgF1cYP4TuMvHGKzE/V2+KoBdXGD+aQDqV0g0yPw==",
          "dtype": "f8"
         }
        },
        {
         "hovertemplate": "<b>%{text}</b><br>Price: %{x}<br>Protein/Energy: %{y}<br>Fat: %{marker.color}<extra></extra>",
         "marker": {
          "color": {
           "bdata": "AAAAAAAA4D8AAAAAAADgPw==",
           "dtype": "f8"
          },
          "colorbar": {
           "title": {
            "text": "Fat (g)"
           }
          },
          "colorscale": [
           [
            0,
            "rgb(255,245,240)"
           ],
           [
            0.125,
            "rgb(254,224,210)"
           ],
           [
            0.25,
            "rgb(252,187,161)"
           ],
           [
            0.375,
            "rgb(252,146,114)"
           ],
           [
            0.5,
            "rgb(251,106,74)"
           ],
           [
            0.625,
            "rgb(239,59,44)"
           ],
           [
            0.75,
            "rgb(203,24,29)"
           ],
           [
            0.875,
            "rgb(165,15,21)"
           ],
           [
            1,
            "rgb(103,0,13)"
           ]
          ],
          "line": {
           "width": 0
          },
          "size": 11
         },
         "mode": "markers",
         "name": "Ambient Juice",
         "text": [
          "Juiceburst Orange",
          "Morrisons Nourish Carrot, Orange & Ginger Juice"
         ],
         "type": "scatter",
         "visible": false,
         "x": {
          "bdata": "MzMzMzMz/z8AAAAAAAAAQA==",
          "dtype": "f8"
         },
         "y": {
          "bdata": "Igw3BsuScD9VVVVVVVVlPw==",
          "dtype": "f8"
         }
        },
        {
         "hovertemplate": "<b>%{text}</b><br>Price: %{x}<br>Protein/Energy: %{y}<br>Fat: %{marker.color}<extra></extra>",
         "marker": {
          "color": {
           "bdata": "MzMzMzOzOUAzMzMzMzM6QAAAAAAAADBAMzMzMzMzOEAzMzMzMzM4QAAAAAAAADBAAAAAAAAAMECamZmZmZk6QM3MzMzMTDdAAAAAAAAALkAAAAAAAAA5QA==",
           "dtype": "f8"
          },
          "colorbar": {
           "title": {
            "text": "Fat (g)"
           }
          },
          "colorscale": [
           [
            0,
            "rgb(255,245,240)"
           ],
           [
            0.125,
            "rgb(254,224,210)"
           ],
           [
            0.25,
            "rgb(252,187,161)"
           ],
           [
            0.375,
            "rgb(252,146,114)"
           ],
           [
            0.5,
            "rgb(251,106,74)"
           ],
           [
            0.625,
            "rgb(239,59,44)"
           ],
           [
            0.75,
            "rgb(203,24,29)"
           ],
           [
            0.875,
            "rgb(165,15,21)"
           ],
           [
            1,
            "rgb(103,0,13)"
           ]
          ],
          "line": {
           "width": 0
          },
          "size": 11
         },
         "mode": "markers",
         "name": "Biscuits",
         "text": [
          "Morrisons The Best All Butter Chocolate & Orange Flavour Cookies",
          "Border Dark Chocolate Orange Biscuits",
          "Nakd Cocoa Orange Bar",
          "Kit Kat 2 Finger Orange 12 Pack",
          "Kit Kat 2 Finger Orange 8 Pack",
          "Nakd Big Bar Cocoa Orange",
          "Nakd Cocoa Orange 4 Raw Fruit & Nut Bars",
          "Border Dark Chocolate & Orange 6 Biscuit Bars",
          "The Bakehouse Jaffa Choc Chunk & Orange Cookies",
          "Kellogg's Rice Krispies Squares Chocolate Orange Snack Bars",
          "Bahlsen Choco Leibniz Orange Chocolate Biscuits"
         ],
         "type": "scatter",
         "visible": false,
         "x": {
          "bdata": "AAAAAAAAAkAAAAAAAAD4P65H4XoUru8/MzMzMzMzB0AAAAAAAAAAQAAAAAAAAPg/AAAAAAAACEAAAAAAAAAAQAAAAAAAAARAAAAAAAAAAkAAAAAAAAACQA==",
          "dtype": "f8"
         },
         "y": {
          "bdata": "G3sBM7uxZz/7ZMygJt+DP8xIJ/PamHU/92emdRb7aj/3Z6Z1FvtqPwFJ/qquG3M/zEgn89qYdT8UFBQUFBSEPwIlNs9Zlmk/fCbOSPOaZT+YI3HP4FptPw==",
          "dtype": "f8"
         }
        },
        {
         "hovertemplate": "<b>%{text}</b><br>Price: %{x}<br>Protein/Energy: %{y}<br>Fat: %{marker.color}<extra></extra>",
         "marker": {
          "color": {
           "bdata": "AAAAAAAA4D8AAAAAAADgPwAAAAAAAOA/",
           "dtype": "f8"
          },
          "colorbar": {
           "title": {
            "text": "Fat (g)"
           }
          },
          "colorscale": [
           [
            0,
            "rgb(255,245,240)"
           ],
           [
            0.125,
            "rgb(254,224,210)"
           ],
           [
            0.25,
            "rgb(252,187,161)"
           ],
           [
            0.375,
            "rgb(252,146,114)"
           ],
           [
            0.5,
            "rgb(251,106,74)"
           ],
           [
            0.625,
            "rgb(239,59,44)"
           ],
           [
            0.75,
            "rgb(203,24,29)"
           ],
           [
            0.875,
            "rgb(165,15,21)"
           ],
           [
            1,
            "rgb(103,0,13)"
           ]
          ],
          "line": {
           "width": 0
          },
          "size": 11
         },
         "mode": "markers",
         "name": "Chilled Smoothies",
         "text": [
          "Innocent Smoothies Kids Oranges, Mangoes & Pineapples",
          "Innocent Kids Smoothies Peaches, Passion Fruits & Oranges",
          "Innocent Smoothies Kids Oranges, Mangoes & Pineapples Juice"
         ],
         "type": "scatter",
         "visible": false,
         "x": {
          "bdata": "9ihcj8L1F0DNzMzMzMwMQM3MzMzMzAxA",
          "dtype": "f8"
         },
         "y": {
          "bdata": "wrQW86LuaD/HuriNBvBmP8K0FvOi7mg/",
          "dtype": "f8"
         }
        },
        {
         "hovertemplate": "<b>%{text}</b><br>Price: %{x}<br>Protein/Energy: %{y}<br>Fat: %{marker.color}<extra></extra>",
         "marker": {
          "color": {
           "bdata": "AAAAAAAAN0CamZmZmRk1QA==",
           "dtype": "f8"
          },
          "colorbar": {
           "title": {
            "text": "Fat (g)"
           }
          },
          "colorscale": [
           [
            0,
            "rgb(255,245,240)"
           ],
           [
            0.125,
            "rgb(254,224,210)"
           ],
           [
            0.25,
            "rgb(252,187,161)"
           ],
           [
            0.375,
            "rgb(252,146,114)"
           ],
           [
            0.5,
            "rgb(251,106,74)"
           ],
           [
            0.625,
            "rgb(239,59,44)"
           ],
           [
            0.75,
            "rgb(203,24,29)"
           ],
           [
            0.875,
            "rgb(165,15,21)"
           ],
           [
            1,
            "rgb(103,0,13)"
           ]
          ],
          "line": {
           "width": 0
          },
          "size": 11
         },
         "mode": "markers",
         "name": "Gifts",
         "text": [
          "Munchies Orange Caramel 100g",
          "Quality Street Matchmakers Zingy Orange Chocolate Box"
         ],
         "type": "scatter",
         "visible": false,
         "x": {
          "bdata": "AAAAAAAA+D8AAAAAAAAAQA==",
          "dtype": "f8"
         },
         "y": {
          "bdata": "6Sl3/GQoYD8KoFnVJ7RhPw==",
          "dtype": "f8"
         }
        },
        {
         "hovertemplate": "<b>%{text}</b><br>Price: %{x}<br>Protein/Energy: %{y}<br>Fat: %{marker.color}<extra></extra>",
         "marker": {
          "color": {
           "bdata": "AAAAAAAANUA=",
           "dtype": "f8"
          },
          "colorbar": {
           "title": {
            "text": "Fat (g)"
           }
          },
          "colorscale": [
           [
            0,
            "rgb(255,245,240)"
           ],
           [
            0.125,
            "rgb(254,224,210)"
           ],
           [
            0.25,
            "rgb(252,187,161)"
           ],
           [
            0.375,
            "rgb(252,146,114)"
           ],
           [
            0.5,
            "rgb(251,106,74)"
           ],
           [
            0.625,
            "rgb(239,59,44)"
           ],
           [
            0.75,
            "rgb(203,24,29)"
           ],
           [
            0.875,
            "rgb(165,15,21)"
           ],
           [
            1,
            "rgb(103,0,13)"
           ]
          ],
          "line": {
           "width": 0
          },
          "size": 11
         },
         "mode": "markers",
         "name": "Bakery & Cakes",
         "text": [
          "Market Town Chocolate And Orange Loaf Cake"
         ],
         "type": "scatter",
         "visible": false,
         "x": {
          "bdata": "mpmZmZmZB0A=",
          "dtype": "f8"
         },
         "y": {
          "bdata": "rJKKLIWYZT8=",
          "dtype": "f8"
         }
        },
        {
         "hovertemplate": "<b>%{text}</b><br>Price: %{x}<br>Protein/Energy: %{y}<br>Fat: %{marker.color}<extra></extra>",
         "marker": {
          "color": {
           "bdata": "AAAAAAAA4D8=",
           "dtype": "f8"
          },
          "colorbar": {
           "title": {
            "text": "Fat (g)"
           }
          },
          "colorscale": [
           [
            0,
            "rgb(255,245,240)"
           ],
           [
            0.125,
            "rgb(254,224,210)"
           ],
           [
            0.25,
            "rgb(252,187,161)"
           ],
           [
            0.375,
            "rgb(252,146,114)"
           ],
           [
            0.5,
            "rgb(251,106,74)"
           ],
           [
            0.625,
            "rgb(239,59,44)"
           ],
           [
            0.75,
            "rgb(203,24,29)"
           ],
           [
            0.875,
            "rgb(165,15,21)"
           ],
           [
            1,
            "rgb(103,0,13)"
           ]
          ],
          "line": {
           "width": 0
          },
          "size": 11
         },
         "mode": "markers",
         "name": "Water",
         "text": [
          "Radnor Splash Orange & Passion Fruit Flavoured Water"
         ],
         "type": "scatter",
         "visible": false,
         "x": {
          "bdata": "AAAAAAAA8D8=",
          "dtype": "f8"
         },
         "y": {
          "bdata": "VVVVVVVVxT8=",
          "dtype": "f8"
         }
        },
        {
         "hovertemplate": "<b>%{text}</b><br>Price: %{x}<br>Protein/Energy: %{y}<br>Fat: %{marker.color}<extra></extra>",
         "marker": {
          "color": {
           "bdata": "AAAAAAAAAADNzMzMzMwIQAAAAAAAAAAAAAAAAAAAAAAAAAAAAADgP5qZmZmZmck/",
           "dtype": "f8"
          },
          "colorbar": {
           "title": {
            "text": "Fat (g)"
           }
          },
          "colorscale": [
           [
            0,
            "rgb(255,245,240)"
           ],
           [
            0.125,
            "rgb(254,224,210)"
           ],
           [
            0.25,
            "rgb(252,187,161)"
           ],
           [
            0.375,
            "rgb(252,146,114)"
           ],
           [
            0.5,
            "rgb(251,106,74)"
           ],
           [
            0.625,
            "rgb(239,59,44)"
           ],
           [
            0.75,
            "rgb(203,24,29)"
           ],
           [
            0.875,
            "rgb(165,15,21)"
           ],
           [
            1,
            "rgb(103,0,13)"
           ]
          ],
          "line": {
           "width": 0
          },
          "size": 11
         },
         "mode": "markers",
         "name": "Frozen",
         "text": [
          "Del Monte 100% Orange Ice Lollies",
          "Solero Ice Cream Sticks Orange Burst",
          "Calippo Mini Orange & Lime Ice Lollies",
          "Rowntrees Fruit Pastille Push Ups Blackcurrant & Orange",
          "Walls Calippo Orange",
          "Morrisons Valencia Orange Ice Lollies"
         ],
         "type": "scatter",
         "visible": false,
         "x": {
          "bdata": "AAAAAAAABEAAAAAAAAAGQAAAAAAAAAZAAAAAAAAABECamZmZmZn5PwAAAAAAAARA",
          "dtype": "f8"
         },
         "y": {
          "bdata": "hlIVDl1FaT+QRark0gRnPwAAAAAAAAAAwc6hfoQDOT/GdaqR2dVTP9dVi7GDh1w/",
          "dtype": "f8"
         }
        },
        {
         "hovertemplate": "<b>%{text}</b><br>Price: %{x}<br>Protein/Energy: %{y}<br>Fat: %{marker.color}<extra></extra>",
         "marker": {
          "color": {
           "bdata": "AAAAAAAA4D8AAAAAAADgPwAAAAAAAOA/AAAAAAAAAAAAAAAAAADgPwAAAAAAAOA/AAAAAAAA4D8AAAAAAADgPwAAAAAAAAAAAAAAAAAAAAA=",
           "dtype": "f8"
          },
          "colorbar": {
           "title": {
            "text": "Fat (g)"
           }
          },
          "colorscale": [
           [
            0,
            "rgb(255,245,240)"
           ],
           [
            0.125,
            "rgb(254,224,210)"
           ],
           [
            0.25,
            "rgb(252,187,161)"
           ],
           [
            0.375,
            "rgb(252,146,114)"
           ],
           [
            0.5,
            "rgb(251,106,74)"
           ],
           [
            0.625,
            "rgb(239,59,44)"
           ],
           [
            0.75,
            "rgb(203,24,29)"
           ],
           [
            0.875,
            "rgb(165,15,21)"
           ],
           [
            1,
            "rgb(103,0,13)"
           ]
          ],
          "line": {
           "width": 0
          },
          "size": 11
         },
         "mode": "markers",
         "name": "Rice Pudding & Desserts",
         "text": [
          "Hartley's No Added Sugar Orange Jelly Pot",
          "Hartley's Orange Jelly Pot",
          "Hartley's 10 Cal Jelly Orange",
          "Tango Double Squeezee Orange & Mango Ice Pops 10x100g",
          "Hartley's Sugar Free Orange Jelly",
          "Hartley's Orange Jelly",
          "Hartley's Jelly Play Transport Kit Strawberry & Orange",
          "Hartley's Orange Jelly",
          "Jubbly Orange Ice Lollies",
          "Dole Mandarins In Orange Jelly Fruits Snacks"
         ],
         "type": "scatter",
         "visible": false,
         "x": {
          "bdata": "mpmZmZmZ6T+amZmZmZnpP3sUrkfheuw/AAAAAAAA+D8zMzMzMzPzPwAAAAAAAPA/AAAAAAAACkAAAAAAAAAAQGZmZmZmZvo/ZmZmZmZmAkA=",
          "dtype": "f8"
         },
         "y": {
          "bdata": "kiRJkiRJoj8IH3zwwQdvPxEREREREaE/AAAAAAAAAAA6tMh2vp+qP54R4BkBnnE/MNblZGIGcT8RERERERFxPwAAAAAAAAAAAAAAAAAAAAA=",
          "dtype": "f8"
         }
        },
        {
         "hovertemplate": "<b>%{text}</b><br>Price: %{x}<br>Protein/Energy: %{y}<br>Fat: %{marker.color}<extra></extra>",
         "marker": {
          "color": {
           "bdata": "AAAAAAAAAAAAAAAAAAAAAAAAAAAAAOA/",
           "dtype": "f8"
          },
          "colorbar": {
           "title": {
            "text": "Fat (g)"
           }
          },
          "colorscale": [
           [
            0,
            "rgb(255,245,240)"
           ],
           [
            0.125,
            "rgb(254,224,210)"
           ],
           [
            0.25,
            "rgb(252,187,161)"
           ],
           [
            0.375,
            "rgb(252,146,114)"
           ],
           [
            0.5,
            "rgb(251,106,74)"
           ],
           [
            0.625,
            "rgb(239,59,44)"
           ],
           [
            0.75,
            "rgb(203,24,29)"
           ],
           [
            0.875,
            "rgb(165,15,21)"
           ],
           [
            1,
            "rgb(103,0,13)"
           ]
          ],
          "line": {
           "width": 0
          },
          "size": 11
         },
         "mode": "markers",
         "name": "Energy & Sports",
         "text": [
          "Boost Sport Orange",
          "Prime Energy Drink Orange Mango",
          "Rubicon RAW Orange & Mango Energy Drink"
         ],
         "type": "scatter",
         "visible": false,
         "x": {
          "bdata": "exSuR+F67D8AAAAAAAD4P2ZmZmZmZvY/",
          "dtype": "f8"
         },
         "y": {
          "bdata": "AAAAAAAAAAAAAAAAAAAAABdogRZogXY/",
          "dtype": "f8"
         }
        },
        {
         "hovertemplate": "<b>%{text}</b><br>Price: %{x}<br>Protein/Energy: %{y}<br>Fat: %{marker.color}<extra></extra>",
         "marker": {
          "color": {
           "bdata": "MzMzMzMz4z8=",
           "dtype": "f8"
          },
          "colorbar": {
           "title": {
            "text": "Fat (g)"
           }
          },
          "colorscale": [
           [
            0,
            "rgb(255,245,240)"
           ],
           [
            0.125,
            "rgb(254,224,210)"
           ],
           [
            0.25,
            "rgb(252,187,161)"
           ],
           [
            0.375,
            "rgb(252,146,114)"
           ],
           [
            0.5,
            "rgb(251,106,74)"
           ],
           [
            0.625,
            "rgb(239,59,44)"
           ],
           [
            0.75,
            "rgb(203,24,29)"
           ],
           [
            0.875,
            "rgb(165,15,21)"
           ],
           [
            1,
            "rgb(103,0,13)"
           ]
          ],
          "line": {
           "width": 0
          },
          "size": 11
         },
         "mode": "markers",
         "name": "Crisps",
         "text": [
          "The Fruit Factory Strawberry, Apple & Orange Fruit Strings"
         ],
         "type": "scatter",
         "visible": false,
         "x": {
          "bdata": "AAAAAAAABEA=",
          "dtype": "f8"
         },
         "y": {
          "bdata": "f+9ILycXcj8=",
          "dtype": "f8"
         }
        },
        {
         "hovertemplate": "<b>%{text}</b><br>Price: %{x}<br>Protein/Energy: %{y}<br>Fat: %{marker.color}<extra></extra>",
         "marker": {
          "color": {
           "bdata": "AAAAAAAA4D8AAAAAAAAAAAAAAAAAAAAA",
           "dtype": "f8"
          },
          "colorbar": {
           "title": {
            "text": "Fat (g)"
           }
          },
          "colorscale": [
           [
            0,
            "rgb(255,245,240)"
           ],
           [
            0.125,
            "rgb(254,224,210)"
           ],
           [
            0.25,
            "rgb(252,187,161)"
           ],
           [
            0.375,
            "rgb(252,146,114)"
           ],
           [
            0.5,
            "rgb(251,106,74)"
           ],
           [
            0.625,
            "rgb(239,59,44)"
           ],
           [
            0.75,
            "rgb(203,24,29)"
           ],
           [
            0.875,
            "rgb(165,15,21)"
           ],
           [
            1,
            "rgb(103,0,13)"
           ]
          ],
          "line": {
           "width": 0
          },
          "size": 11
         },
         "mode": "markers",
         "name": "Still & Sparkling Fruit Drinks",
         "text": [
          "Vit Hit Perform Orange Mango Passionfruit 500ml",
          "Rubicon Spring Orange Mango",
          "Tropicana Orange Sparkling"
         ],
         "type": "scatter",
         "visible": false,
         "x": {
          "bdata": "zczMzMzM/D+amZmZmZn1PwAAAAAAAPg/",
          "dtype": "f8"
         },
         "y": {
          "bdata": "mpmZmZmZmT8AAAAAAAAAAKBQLQEK1VI/",
          "dtype": "f8"
         }
        },
        {
         "hovertemplate": "<b>%{text}</b><br>Price: %{x}<br>Protein/Energy: %{y}<br>Fat: %{marker.color}<extra></extra>",
         "marker": {
          "color": {
           "bdata": "mpmZmZmZuT8AAAAAAAAAAA==",
           "dtype": "f8"
          },
          "colorbar": {
           "title": {
            "text": "Fat (g)"
           }
          },
          "colorscale": [
           [
            0,
            "rgb(255,245,240)"
           ],
           [
            0.125,
            "rgb(254,224,210)"
           ],
           [
            0.25,
            "rgb(252,187,161)"
           ],
           [
            0.375,
            "rgb(252,146,114)"
           ],
           [
            0.5,
            "rgb(251,106,74)"
           ],
           [
            0.625,
            "rgb(239,59,44)"
           ],
           [
            0.75,
            "rgb(203,24,29)"
           ],
           [
            0.875,
            "rgb(165,15,21)"
           ],
           [
            1,
            "rgb(103,0,13)"
           ]
          ],
          "line": {
           "width": 0
          },
          "size": 11
         },
         "mode": "markers",
         "name": "Vitamins & Supplements",
         "text": [
          "SIS Go Isotonic Energy Gels Orange",
          "Dextro Energy Orange"
         ],
         "type": "scatter",
         "visible": false,
         "x": {
          "bdata": "AAAAAAAAHUAAAAAAAADoPw==",
          "dtype": "f8"
         },
         "y": {
          "bdata": "AAAAAAAAAAAAAAAAAAAAAA==",
          "dtype": "f8"
         }
        },
        {
         "hovertemplate": "<b>%{text}</b><br>Price: %{x}<br>Protein/Energy: %{y}<br>Fat: %{marker.color}<extra></extra>",
         "marker": {
          "color": {
           "bdata": "AAAAAAAAAAAAAAAAAAAAAAAAAAAAAAAA",
           "dtype": "f8"
          },
          "colorbar": {
           "title": {
            "text": "Fat (g)"
           }
          },
          "colorscale": [
           [
            0,
            "rgb(255,245,240)"
           ],
           [
            0.125,
            "rgb(254,224,210)"
           ],
           [
            0.25,
            "rgb(252,187,161)"
           ],
           [
            0.375,
            "rgb(252,146,114)"
           ],
           [
            0.5,
            "rgb(251,106,74)"
           ],
           [
            0.625,
            "rgb(239,59,44)"
           ],
           [
            0.75,
            "rgb(203,24,29)"
           ],
           [
            0.875,
            "rgb(165,15,21)"
           ],
           [
            1,
            "rgb(103,0,13)"
           ]
          ],
          "line": {
           "width": 0
          },
          "size": 11
         },
         "mode": "markers",
         "name": "World Foods",
         "text": [
          "Caprio Orange Drink",
          "Rubicon Spring Orange & Mango Sparkling Flavoured Water",
          "Quice Orange Fruit Drink Bottle 250ml"
         ],
         "type": "scatter",
         "visible": false,
         "x": {
          "bdata": "AAAAAAAABEAAAAAAAAD0PwAAAAAAAPA/",
          "dtype": "f8"
         },
         "y": {
          "bdata": "AAAAAAAAAAAAAAAAAAAAAAAAAAAAAAAA",
          "dtype": "f8"
         }
        },
        {
         "hovertemplate": "<b>%{text}</b><br>Price: %{x}<br>Protein/Energy: %{y}<br>Fat: %{marker.color}<extra></extra>",
         "marker": {
          "color": {
           "bdata": "mpmZmZkZOUDNzMzMzEw5QA==",
           "dtype": "f8"
          },
          "colorbar": {
           "title": {
            "text": "Fat (g)"
           }
          },
          "colorscale": [
           [
            0,
            "rgb(255,245,240)"
           ],
           [
            0.125,
            "rgb(254,224,210)"
           ],
           [
            0.25,
            "rgb(252,187,161)"
           ],
           [
            0.375,
            "rgb(252,146,114)"
           ],
           [
            0.5,
            "rgb(251,106,74)"
           ],
           [
            0.625,
            "rgb(239,59,44)"
           ],
           [
            0.75,
            "rgb(203,24,29)"
           ],
           [
            0.875,
            "rgb(165,15,21)"
           ],
           [
            1,
            "rgb(103,0,13)"
           ]
          ],
          "line": {
           "width": 0
          },
          "size": 11
         },
         "mode": "markers",
         "name": "Cooked Meats",
         "text": [
          "Morrisons The Best Smooth Duck & Seville Orange Pate",
          "Market Street Deli Duck & Orange Pate"
         ],
         "type": "scatter",
         "visible": false,
         "x": {
          "bdata": "AAAAAAAABEAAAAAAAADoPw==",
          "dtype": "f8"
         },
         "y": {
          "bdata": "+R2I34H4fT+E7+dC/yp+Pw==",
          "dtype": "f8"
         }
        },
        {
         "hovertemplate": "<b>%{text}</b><br>Price: %{x}<br>Protein/Energy: %{y}<br>Fat: %{marker.color}<extra></extra>",
         "marker": {
          "color": {
           "bdata": "AAAAAAAAAAAAAAAAAAAAAA==",
           "dtype": "f8"
          },
          "colorbar": {
           "title": {
            "text": "Fat (g)"
           }
          },
          "colorscale": [
           [
            0,
            "rgb(255,245,240)"
           ],
           [
            0.125,
            "rgb(254,224,210)"
           ],
           [
            0.25,
            "rgb(252,187,161)"
           ],
           [
            0.375,
            "rgb(252,146,114)"
           ],
           [
            0.5,
            "rgb(251,106,74)"
           ],
           [
            0.625,
            "rgb(239,59,44)"
           ],
           [
            0.75,
            "rgb(203,24,29)"
           ],
           [
            0.875,
            "rgb(165,15,21)"
           ],
           [
            1,
            "rgb(103,0,13)"
           ]
          ],
          "line": {
           "width": 0
          },
          "size": 11
         },
         "mode": "markers",
         "name": "Apple, Blackcurrant & Summerfruit",
         "text": [
          "Vimto Fruit Squash Orange & Pineapple",
          "Vimto Raspberry, Orange & Passionfruit Real Fruit Squash"
         ],
         "type": "scatter",
         "visible": false,
         "x": {
          "bdata": "16NwPQrX/z8AAAAAAAAAQA==",
          "dtype": "f8"
         },
         "y": {
          "bdata": "AAAAAAAAAAAAAAAAAAAAAA==",
          "dtype": "f8"
         }
        },
        {
         "hovertemplate": "<b>%{text}</b><br>Price: %{x}<br>Protein/Energy: %{y}<br>Fat: %{marker.color}<extra></extra>",
         "marker": {
          "color": {
           "bdata": "MzMzMzMzL0AAAAAAAAAiQA==",
           "dtype": "f8"
          },
          "colorbar": {
           "title": {
            "text": "Fat (g)"
           }
          },
          "colorscale": [
           [
            0,
            "rgb(255,245,240)"
           ],
           [
            0.125,
            "rgb(254,224,210)"
           ],
           [
            0.25,
            "rgb(252,187,161)"
           ],
           [
            0.375,
            "rgb(252,146,114)"
           ],
           [
            0.5,
            "rgb(251,106,74)"
           ],
           [
            0.625,
            "rgb(239,59,44)"
           ],
           [
            0.75,
            "rgb(203,24,29)"
           ],
           [
            0.875,
            "rgb(165,15,21)"
           ],
           [
            1,
            "rgb(103,0,13)"
           ]
          ],
          "line": {
           "width": 0
          },
          "size": 11
         },
         "mode": "markers",
         "name": "Health & Wellbeing",
         "text": [
          "The Protein Ball Co. Cacao+Orange 6 Balls",
          "Skinny Whip Chocolate Orange Bars"
         ],
         "type": "scatter",
         "visible": false,
         "x": {
          "bdata": "AAAAAAAAAEBmZmZmZmbyPw==",
          "dtype": "f8"
         },
         "y": {
          "bdata": "4FsCkuTaij8VUAEVUAFVPw==",
          "dtype": "f8"
         }
        },
        {
         "hovertemplate": "<b>%{text}</b><br>Price: %{x}<br>Protein/Energy: %{y}<br>Fat: %{marker.color}<extra></extra>",
         "marker": {
          "color": {
           "bdata": "AAAAAAAAAAAAAAAAAAAAAAAAAAAAAAAA",
           "dtype": "f8"
          },
          "colorbar": {
           "title": {
            "text": "Fat (g)"
           }
          },
          "colorscale": [
           [
            0,
            "rgb(255,245,240)"
           ],
           [
            0.125,
            "rgb(254,224,210)"
           ],
           [
            0.25,
            "rgb(252,187,161)"
           ],
           [
            0.375,
            "rgb(252,146,114)"
           ],
           [
            0.5,
            "rgb(251,106,74)"
           ],
           [
            0.625,
            "rgb(239,59,44)"
           ],
           [
            0.75,
            "rgb(203,24,29)"
           ],
           [
            0.875,
            "rgb(165,15,21)"
           ],
           [
            1,
            "rgb(103,0,13)"
           ]
          ],
          "line": {
           "width": 0
          },
          "size": 11
         },
         "mode": "markers",
         "name": "Mixers & Adult Soft Drinks",
         "text": [
          "Fever-Tree Light Spiced Orange Ginger Ale",
          "Fever-Tree Italian Blood Orange Soda",
          "San Pellegrino Pomegranate & Orange Cans"
         ],
         "type": "scatter",
         "visible": false,
         "x": {
          "bdata": "MzMzMzMzAUAzMzMzMzMBQAAAAAAAABJA",
          "dtype": "f8"
         },
         "y": {
          "bdata": "AAAAAAAAAAAAAAAAAAAAAKBQLQEK1VI/",
          "dtype": "f8"
         }
        },
        {
         "hovertemplate": "<b>%{text}</b><br>Price: %{x}<br>Protein/Energy: %{y}<br>Fat: %{marker.color}<extra></extra>",
         "marker": {
          "color": {
           "bdata": "AAAAAAAAAAAAAAAAAAAAAAAAAAAAAAAA",
           "dtype": "f8"
          },
          "colorbar": {
           "title": {
            "text": "Fat (g)"
           }
          },
          "colorscale": [
           [
            0,
            "rgb(255,245,240)"
           ],
           [
            0.125,
            "rgb(254,224,210)"
           ],
           [
            0.25,
            "rgb(252,187,161)"
           ],
           [
            0.375,
            "rgb(252,146,114)"
           ],
           [
            0.5,
            "rgb(251,106,74)"
           ],
           [
            0.625,
            "rgb(239,59,44)"
           ],
           [
            0.75,
            "rgb(203,24,29)"
           ],
           [
            0.875,
            "rgb(165,15,21)"
           ],
           [
            1,
            "rgb(103,0,13)"
           ]
          ],
          "line": {
           "width": 0
          },
          "size": 11
         },
         "mode": "markers",
         "name": "Tea & Hot Drinks",
         "text": [
          "Twinings Peach & Orange 20 Tea Bags",
          "Tetley Super Fruit Vitamin C Peach and Orange Tea 20's",
          "Twinings Superblends Sleep Valerian & Orange Blossom 20 Tea Bags"
         ],
         "type": "scatter",
         "visible": false,
         "x": {
          "bdata": "UrgehetRBkBSuB6F61ECQAAAAAAAAAxA",
          "dtype": "f8"
         },
         "y": {
          "bdata": "AAAAAAAAAACamZmZmZmJPwAAAAAAAAAA",
          "dtype": "f8"
         }
        },
        {
         "hovertemplate": "<b>%{text}</b><br>Price: %{x}<br>Protein/Energy: %{y}<br>Fat: %{marker.color}<extra></extra>",
         "marker": {
          "color": {
           "bdata": "AAAAAAAAAAAAAAAAAAAAAA==",
           "dtype": "f8"
          },
          "colorbar": {
           "title": {
            "text": "Fat (g)"
           }
          },
          "colorscale": [
           [
            0,
            "rgb(255,245,240)"
           ],
           [
            0.125,
            "rgb(254,224,210)"
           ],
           [
            0.25,
            "rgb(252,187,161)"
           ],
           [
            0.375,
            "rgb(252,146,114)"
           ],
           [
            0.5,
            "rgb(251,106,74)"
           ],
           [
            0.625,
            "rgb(239,59,44)"
           ],
           [
            0.75,
            "rgb(203,24,29)"
           ],
           [
            0.875,
            "rgb(165,15,21)"
           ],
           [
            1,
            "rgb(103,0,13)"
           ]
          ],
          "line": {
           "width": 0
          },
          "size": 11
         },
         "mode": "markers",
         "name": "Lemonade",
         "text": [
          "Sprite Zero Sugar Cans 8x330ml",
          "Sprite Cans 8x330ml"
         ],
         "type": "scatter",
         "visible": false,
         "x": {
          "bdata": "AAAAAAAADkAAAAAAAAAQQA==",
          "dtype": "f8"
         },
         "y": {
          "bdata": "AAAAAAAAAAAAAAAAAAAAAA==",
          "dtype": "f8"
         }
        },
        {
         "hovertemplate": "<b>%{text}</b><br>Price: %{x}<br>Protein/Energy: %{y}<br>Fat: %{marker.color}<extra></extra>",
         "marker": {
          "color": {
           "bdata": "zczMzMzMBEAAAAAAAAD4Pw==",
           "dtype": "f8"
          },
          "colorbar": {
           "title": {
            "text": "Fat (g)"
           }
          },
          "colorscale": [
           [
            0,
            "rgb(255,245,240)"
           ],
           [
            0.125,
            "rgb(254,224,210)"
           ],
           [
            0.25,
            "rgb(252,187,161)"
           ],
           [
            0.375,
            "rgb(252,146,114)"
           ],
           [
            0.5,
            "rgb(251,106,74)"
           ],
           [
            0.625,
            "rgb(239,59,44)"
           ],
           [
            0.75,
            "rgb(203,24,29)"
           ],
           [
            0.875,
            "rgb(165,15,21)"
           ],
           [
            1,
            "rgb(103,0,13)"
           ]
          ],
          "line": {
           "width": 0
          },
          "size": 11
         },
         "mode": "markers",
         "name": "Yogurts",
         "text": [
          "Muller Light Choc Pot Chocolate Orange Dessert",
          "Muller Light Protein Pudding Chocolate Orange"
         ],
         "type": "scatter",
         "visible": false,
         "x": {
          "bdata": "AAAAAAAA+D8AAAAAAAD4Pw==",
          "dtype": "f8"
         },
         "y": {
          "bdata": "fGz6IlM8gT80ub7miOCbPw==",
          "dtype": "f8"
         }
        },
        {
         "hovertemplate": "<b>%{text}</b><br>Price: %{x}<br>Protein/Energy: %{y}<br>Fat: %{marker.color}<extra></extra>",
         "marker": {
          "color": {
           "bdata": "AAAAAAAAN0CamZmZmZk9QA==",
           "dtype": "f8"
          },
          "colorbar": {
           "title": {
            "text": "Fat (g)"
           }
          },
          "colorscale": [
           [
            0,
            "rgb(255,245,240)"
           ],
           [
            0.125,
            "rgb(254,224,210)"
           ],
           [
            0.25,
            "rgb(252,187,161)"
           ],
           [
            0.375,
            "rgb(252,146,114)"
           ],
           [
            0.5,
            "rgb(251,106,74)"
           ],
           [
            0.625,
            "rgb(239,59,44)"
           ],
           [
            0.75,
            "rgb(203,24,29)"
           ],
           [
            0.875,
            "rgb(165,15,21)"
           ],
           [
            1,
            "rgb(103,0,13)"
           ]
          ],
          "line": {
           "width": 0
          },
          "size": 11
         },
         "mode": "markers",
         "name": "Free From",
         "text": [
          "Perkier Cacao & Orange Protein Bars",
          "Morrisons 8 Free From Chocolate Orange Cookies"
         ],
         "type": "scatter",
         "visible": false,
         "x": {
          "bdata": "AAAAAAAAAEAK16NwPQr7Pw==",
          "dtype": "f8"
         },
         "y": {
          "bdata": "ozXdpw+Ogj/LR52wl/hoPw==",
          "dtype": "f8"
         }
        },
        {
         "hovertemplate": "<b>%{text}</b><br>Price: %{x}<br>Protein/Energy: %{y}<br>Fat: %{marker.color}<extra></extra>",
         "marker": {
          "color": {
           "bdata": "mpmZmZmZuT8AAAAAAAAwQAAAAAAAAAAA",
           "dtype": "f8"
          },
          "colorbar": {
           "title": {
            "text": "Fat (g)"
           }
          },
          "colorscale": [
           [
            0,
            "rgb(255,245,240)"
           ],
           [
            0.125,
            "rgb(254,224,210)"
           ],
           [
            0.25,
            "rgb(252,187,161)"
           ],
           [
            0.375,
            "rgb(252,146,114)"
           ],
           [
            0.5,
            "rgb(251,106,74)"
           ],
           [
            0.625,
            "rgb(239,59,44)"
           ],
           [
            0.75,
            "rgb(203,24,29)"
           ],
           [
            0.875,
            "rgb(165,15,21)"
           ],
           [
            1,
            "rgb(103,0,13)"
           ]
          ],
          "line": {
           "width": 0
          },
          "size": 11
         },
         "mode": "markers",
         "name": "Sports Nutrition",
         "text": [
          "Science In Sport GO Isotonic Energy Gel Orange",
          "Pulsin Keto Bar Orange Chocolate",
          "Myprotein Pro X Hyrox - The Recovery Protein Orange & Mango 16"
         ],
         "type": "scatter",
         "visible": false,
         "x": {
          "bdata": "mpmZmZmZ8T8AAAAAAAD4PwAAAAAAAD1A",
          "dtype": "f8"
         },
         "y": {
          "bdata": "AAAAAAAAAAB4TZl3vy2JP+H1uJ1JkKA/",
          "dtype": "f8"
         }
        },
        {
         "hovertemplate": "<b>%{text}</b><br>Price: %{x}<br>Protein/Energy: %{y}<br>Fat: %{marker.color}<extra></extra>",
         "marker": {
          "color": {
           "bdata": "AAAAAAAAAAA=",
           "dtype": "f8"
          },
          "colorbar": {
           "title": {
            "text": "Fat (g)"
           }
          },
          "colorscale": [
           [
            0,
            "rgb(255,245,240)"
           ],
           [
            0.125,
            "rgb(254,224,210)"
           ],
           [
            0.25,
            "rgb(252,187,161)"
           ],
           [
            0.375,
            "rgb(252,146,114)"
           ],
           [
            0.5,
            "rgb(251,106,74)"
           ],
           [
            0.625,
            "rgb(239,59,44)"
           ],
           [
            0.75,
            "rgb(203,24,29)"
           ],
           [
            0.875,
            "rgb(165,15,21)"
           ],
           [
            1,
            "rgb(103,0,13)"
           ]
          ],
          "line": {
           "width": 0
          },
          "size": 11
         },
         "mode": "markers",
         "name": "Fruit Flavours",
         "text": [
          "Dr Pepper Cans"
         ],
         "type": "scatter",
         "visible": false,
         "x": {
          "bdata": "AAAAAAAAHEA=",
          "dtype": "f8"
         },
         "y": {
          "bdata": "AAAAAAAAAAA=",
          "dtype": "f8"
         }
        },
        {
         "hovertemplate": "<b>%{text}</b><br>Price: %{x}<br>Protein/Energy: %{y}<br>Fat: %{marker.color}<extra></extra>",
         "marker": {
          "color": {
           "bdata": "AAAAAAAAAAA=",
           "dtype": "f8"
          },
          "colorbar": {
           "title": {
            "text": "Fat (g)"
           }
          },
          "colorscale": [
           [
            0,
            "rgb(255,245,240)"
           ],
           [
            0.125,
            "rgb(254,224,210)"
           ],
           [
            0.25,
            "rgb(252,187,161)"
           ],
           [
            0.375,
            "rgb(252,146,114)"
           ],
           [
            0.5,
            "rgb(251,106,74)"
           ],
           [
            0.625,
            "rgb(239,59,44)"
           ],
           [
            0.75,
            "rgb(203,24,29)"
           ],
           [
            0.875,
            "rgb(165,15,21)"
           ],
           [
            1,
            "rgb(103,0,13)"
           ]
          ],
          "line": {
           "width": 0
          },
          "size": 11
         },
         "mode": "markers",
         "name": "Food To Go",
         "text": [
          "Tropicana Pure Smooth Orange Fruit Juice"
         ],
         "type": "scatter",
         "visible": false,
         "x": {
          "bdata": "AAAAAAAAAkA=",
          "dtype": "f8"
         },
         "y": {
          "bdata": "kNEwARkNcz8=",
          "dtype": "f8"
         }
        },
        {
         "hovertemplate": "<b>%{text}</b><br>Price: %{x}<br>Protein/Energy: %{y}<br>Fat: %{marker.color}<extra></extra>",
         "marker": {
          "color": {
           "bdata": "AAAAAAAAPUAAAAAAAAA9QAAAAAAAADtAAAAAAAAAOUAAAAAAAAA9QAAAAAAAADpAAAAAAAAAPEAAAAAAAIA1QAAAAAAAAOA/mpmZmZmZ8T+amZmZmZnJPwAAAAAAACxAAAAAAAAAKkAAAAAAAAAAAAAAAAAAAAAAAAAAAAAAEkDNzMzMzMzsP9ejcD0K1+s/",
           "dtype": "f8"
          },
          "colorbar": {
           "title": {
            "text": "Fat (g)"
           }
          },
          "colorscale": [
           [
            0,
            "rgb(255,245,240)"
           ],
           [
            0.125,
            "rgb(254,224,210)"
           ],
           [
            0.25,
            "rgb(252,187,161)"
           ],
           [
            0.375,
            "rgb(252,146,114)"
           ],
           [
            0.5,
            "rgb(251,106,74)"
           ],
           [
            0.625,
            "rgb(239,59,44)"
           ],
           [
            0.75,
            "rgb(203,24,29)"
           ],
           [
            0.875,
            "rgb(165,15,21)"
           ],
           [
            1,
            "rgb(103,0,13)"
           ]
          ],
          "line": {
           "width": 0
          },
          "size": 11
         },
         "mode": "markers",
         "name": "Beer, Wines & Spirits",
         "text": [
          "Terry's Milk Chocolate Orange Truffles Easter Egg 260g",
          "Terry's Milk Chocolate Orange Easter Egg & Orange Ball 307g",
          "Terry's Milk Chocolate Orange Mini Eggs Bar 90g",
          "Terry's Milk Chocolate Orange Mini Eggs Easter Egg 200g",
          "Smarties Orange Flavoured Milk Chocolate Large Easter Egg 188g",
          "Terry's Orange Milk Chocolate Mini Eggs Pouch 70g",
          "Terry's Milk Chocolate Orange Minis Exploding Candy Easter Egg 91g",
          "Morrisons Mini Milk Chocolate Orange Eggs 80g",
          "Cow & Gate Apple Orange & Acerola Baby Food Fruit Pot 6+ Months 4x100g",
          "Ella's Kitchen Organic The Orange One Smoothie Multipack Pouch 6+ Months",
          "Cow & Gate Fruit Pouch Apple Mango Orange & Carrot Baby Food 4+ Months 100g",
          "Organix Apple & Orange Soft Oaty Bars",
          "Organix Kids Choco Orange Mini Flapjack Bites",
          "Trip CBD Infused Raspberry Orange Blossom",
          "Goodrays CBD Infused Blood Orange & Grapefruit Sparkling Drink Can 250ml",
          "Bonne Maman Chocolate & Orange Spread",
          "Tassimo Cadbury Orange Hot Chocolate Pods x8",
          "Tassimo Cadbury Orange Hot Chocolate 10 Cups"
         ],
         "type": "scatter",
         "visible": false,
         "x": {
          "bdata": "ZmZmZmZmEUAAAAAAAAAIQOxRuB6F6+k/AAAAAAAAAEAAAAAAAAAAQAAAAAAAAPg/AAAAAAAA+D8AAAAAAAD0PwAAAAAAAPw/zczMzMzMDkDNzMzMzMzsPwAAAAAAAAhAAAAAAAAACEAAAAAAAAAWQAAAAAAAAARAAAAAAAAACEAzMzMzMzMVQDMzMzMzMxVA",
          "dtype": "f8"
         },
         "y": {
          "bdata": "RxhycqO0ZT/rRXuVLbdlPwVBz223lWQ/RFMT36m4aj9R86yEA0JjP7ndI/kA92o/EyzBEizBYj9hK6zvLUtbPzUngbhQc2I/yJ0l7Oa3YD+fmI1GYFtfP3Jjw61bRnI/PQTceH50dD8AAAAAAAAAAAAAAAAAAAAArV+8vxToYD/sjJuFJjV/P6cQaAqBpoA/",
          "dtype": "f8"
         }
        }
       ],
       "layout": {
        "font": {
         "color": "white"
        },
        "paper_bgcolor": "black",
        "plot_bgcolor": "black",
        "template": {
         "data": {
          "bar": [
           {
            "error_x": {
             "color": "#2a3f5f"
            },
            "error_y": {
             "color": "#2a3f5f"
            },
            "marker": {
             "line": {
              "color": "#E5ECF6",
              "width": 0.5
             },
             "pattern": {
              "fillmode": "overlay",
              "size": 10,
              "solidity": 0.2
             }
            },
            "type": "bar"
           }
          ],
          "barpolar": [
           {
            "marker": {
             "line": {
              "color": "#E5ECF6",
              "width": 0.5
             },
             "pattern": {
              "fillmode": "overlay",
              "size": 10,
              "solidity": 0.2
             }
            },
            "type": "barpolar"
           }
          ],
          "carpet": [
           {
            "aaxis": {
             "endlinecolor": "#2a3f5f",
             "gridcolor": "white",
             "linecolor": "white",
             "minorgridcolor": "white",
             "startlinecolor": "#2a3f5f"
            },
            "baxis": {
             "endlinecolor": "#2a3f5f",
             "gridcolor": "white",
             "linecolor": "white",
             "minorgridcolor": "white",
             "startlinecolor": "#2a3f5f"
            },
            "type": "carpet"
           }
          ],
          "choropleth": [
           {
            "colorbar": {
             "outlinewidth": 0,
             "ticks": ""
            },
            "type": "choropleth"
           }
          ],
          "contour": [
           {
            "colorbar": {
             "outlinewidth": 0,
             "ticks": ""
            },
            "colorscale": [
             [
              0,
              "#0d0887"
             ],
             [
              0.1111111111111111,
              "#46039f"
             ],
             [
              0.2222222222222222,
              "#7201a8"
             ],
             [
              0.3333333333333333,
              "#9c179e"
             ],
             [
              0.4444444444444444,
              "#bd3786"
             ],
             [
              0.5555555555555556,
              "#d8576b"
             ],
             [
              0.6666666666666666,
              "#ed7953"
             ],
             [
              0.7777777777777778,
              "#fb9f3a"
             ],
             [
              0.8888888888888888,
              "#fdca26"
             ],
             [
              1,
              "#f0f921"
             ]
            ],
            "type": "contour"
           }
          ],
          "contourcarpet": [
           {
            "colorbar": {
             "outlinewidth": 0,
             "ticks": ""
            },
            "type": "contourcarpet"
           }
          ],
          "heatmap": [
           {
            "colorbar": {
             "outlinewidth": 0,
             "ticks": ""
            },
            "colorscale": [
             [
              0,
              "#0d0887"
             ],
             [
              0.1111111111111111,
              "#46039f"
             ],
             [
              0.2222222222222222,
              "#7201a8"
             ],
             [
              0.3333333333333333,
              "#9c179e"
             ],
             [
              0.4444444444444444,
              "#bd3786"
             ],
             [
              0.5555555555555556,
              "#d8576b"
             ],
             [
              0.6666666666666666,
              "#ed7953"
             ],
             [
              0.7777777777777778,
              "#fb9f3a"
             ],
             [
              0.8888888888888888,
              "#fdca26"
             ],
             [
              1,
              "#f0f921"
             ]
            ],
            "type": "heatmap"
           }
          ],
          "histogram": [
           {
            "marker": {
             "pattern": {
              "fillmode": "overlay",
              "size": 10,
              "solidity": 0.2
             }
            },
            "type": "histogram"
           }
          ],
          "histogram2d": [
           {
            "colorbar": {
             "outlinewidth": 0,
             "ticks": ""
            },
            "colorscale": [
             [
              0,
              "#0d0887"
             ],
             [
              0.1111111111111111,
              "#46039f"
             ],
             [
              0.2222222222222222,
              "#7201a8"
             ],
             [
              0.3333333333333333,
              "#9c179e"
             ],
             [
              0.4444444444444444,
              "#bd3786"
             ],
             [
              0.5555555555555556,
              "#d8576b"
             ],
             [
              0.6666666666666666,
              "#ed7953"
             ],
             [
              0.7777777777777778,
              "#fb9f3a"
             ],
             [
              0.8888888888888888,
              "#fdca26"
             ],
             [
              1,
              "#f0f921"
             ]
            ],
            "type": "histogram2d"
           }
          ],
          "histogram2dcontour": [
           {
            "colorbar": {
             "outlinewidth": 0,
             "ticks": ""
            },
            "colorscale": [
             [
              0,
              "#0d0887"
             ],
             [
              0.1111111111111111,
              "#46039f"
             ],
             [
              0.2222222222222222,
              "#7201a8"
             ],
             [
              0.3333333333333333,
              "#9c179e"
             ],
             [
              0.4444444444444444,
              "#bd3786"
             ],
             [
              0.5555555555555556,
              "#d8576b"
             ],
             [
              0.6666666666666666,
              "#ed7953"
             ],
             [
              0.7777777777777778,
              "#fb9f3a"
             ],
             [
              0.8888888888888888,
              "#fdca26"
             ],
             [
              1,
              "#f0f921"
             ]
            ],
            "type": "histogram2dcontour"
           }
          ],
          "mesh3d": [
           {
            "colorbar": {
             "outlinewidth": 0,
             "ticks": ""
            },
            "type": "mesh3d"
           }
          ],
          "parcoords": [
           {
            "line": {
             "colorbar": {
              "outlinewidth": 0,
              "ticks": ""
             }
            },
            "type": "parcoords"
           }
          ],
          "pie": [
           {
            "automargin": true,
            "type": "pie"
           }
          ],
          "scatter": [
           {
            "fillpattern": {
             "fillmode": "overlay",
             "size": 10,
             "solidity": 0.2
            },
            "type": "scatter"
           }
          ],
          "scatter3d": [
           {
            "line": {
             "colorbar": {
              "outlinewidth": 0,
              "ticks": ""
             }
            },
            "marker": {
             "colorbar": {
              "outlinewidth": 0,
              "ticks": ""
             }
            },
            "type": "scatter3d"
           }
          ],
          "scattercarpet": [
           {
            "marker": {
             "colorbar": {
              "outlinewidth": 0,
              "ticks": ""
             }
            },
            "type": "scattercarpet"
           }
          ],
          "scattergeo": [
           {
            "marker": {
             "colorbar": {
              "outlinewidth": 0,
              "ticks": ""
             }
            },
            "type": "scattergeo"
           }
          ],
          "scattergl": [
           {
            "marker": {
             "colorbar": {
              "outlinewidth": 0,
              "ticks": ""
             }
            },
            "type": "scattergl"
           }
          ],
          "scattermap": [
           {
            "marker": {
             "colorbar": {
              "outlinewidth": 0,
              "ticks": ""
             }
            },
            "type": "scattermap"
           }
          ],
          "scattermapbox": [
           {
            "marker": {
             "colorbar": {
              "outlinewidth": 0,
              "ticks": ""
             }
            },
            "type": "scattermapbox"
           }
          ],
          "scatterpolar": [
           {
            "marker": {
             "colorbar": {
              "outlinewidth": 0,
              "ticks": ""
             }
            },
            "type": "scatterpolar"
           }
          ],
          "scatterpolargl": [
           {
            "marker": {
             "colorbar": {
              "outlinewidth": 0,
              "ticks": ""
             }
            },
            "type": "scatterpolargl"
           }
          ],
          "scatterternary": [
           {
            "marker": {
             "colorbar": {
              "outlinewidth": 0,
              "ticks": ""
             }
            },
            "type": "scatterternary"
           }
          ],
          "surface": [
           {
            "colorbar": {
             "outlinewidth": 0,
             "ticks": ""
            },
            "colorscale": [
             [
              0,
              "#0d0887"
             ],
             [
              0.1111111111111111,
              "#46039f"
             ],
             [
              0.2222222222222222,
              "#7201a8"
             ],
             [
              0.3333333333333333,
              "#9c179e"
             ],
             [
              0.4444444444444444,
              "#bd3786"
             ],
             [
              0.5555555555555556,
              "#d8576b"
             ],
             [
              0.6666666666666666,
              "#ed7953"
             ],
             [
              0.7777777777777778,
              "#fb9f3a"
             ],
             [
              0.8888888888888888,
              "#fdca26"
             ],
             [
              1,
              "#f0f921"
             ]
            ],
            "type": "surface"
           }
          ],
          "table": [
           {
            "cells": {
             "fill": {
              "color": "#EBF0F8"
             },
             "line": {
              "color": "white"
             }
            },
            "header": {
             "fill": {
              "color": "#C8D4E3"
             },
             "line": {
              "color": "white"
             }
            },
            "type": "table"
           }
          ]
         },
         "layout": {
          "annotationdefaults": {
           "arrowcolor": "#2a3f5f",
           "arrowhead": 0,
           "arrowwidth": 1
          },
          "autotypenumbers": "strict",
          "coloraxis": {
           "colorbar": {
            "outlinewidth": 0,
            "ticks": ""
           }
          },
          "colorscale": {
           "diverging": [
            [
             0,
             "#8e0152"
            ],
            [
             0.1,
             "#c51b7d"
            ],
            [
             0.2,
             "#de77ae"
            ],
            [
             0.3,
             "#f1b6da"
            ],
            [
             0.4,
             "#fde0ef"
            ],
            [
             0.5,
             "#f7f7f7"
            ],
            [
             0.6,
             "#e6f5d0"
            ],
            [
             0.7,
             "#b8e186"
            ],
            [
             0.8,
             "#7fbc41"
            ],
            [
             0.9,
             "#4d9221"
            ],
            [
             1,
             "#276419"
            ]
           ],
           "sequential": [
            [
             0,
             "#0d0887"
            ],
            [
             0.1111111111111111,
             "#46039f"
            ],
            [
             0.2222222222222222,
             "#7201a8"
            ],
            [
             0.3333333333333333,
             "#9c179e"
            ],
            [
             0.4444444444444444,
             "#bd3786"
            ],
            [
             0.5555555555555556,
             "#d8576b"
            ],
            [
             0.6666666666666666,
             "#ed7953"
            ],
            [
             0.7777777777777778,
             "#fb9f3a"
            ],
            [
             0.8888888888888888,
             "#fdca26"
            ],
            [
             1,
             "#f0f921"
            ]
           ],
           "sequentialminus": [
            [
             0,
             "#0d0887"
            ],
            [
             0.1111111111111111,
             "#46039f"
            ],
            [
             0.2222222222222222,
             "#7201a8"
            ],
            [
             0.3333333333333333,
             "#9c179e"
            ],
            [
             0.4444444444444444,
             "#bd3786"
            ],
            [
             0.5555555555555556,
             "#d8576b"
            ],
            [
             0.6666666666666666,
             "#ed7953"
            ],
            [
             0.7777777777777778,
             "#fb9f3a"
            ],
            [
             0.8888888888888888,
             "#fdca26"
            ],
            [
             1,
             "#f0f921"
            ]
           ]
          },
          "colorway": [
           "#636efa",
           "#EF553B",
           "#00cc96",
           "#ab63fa",
           "#FFA15A",
           "#19d3f3",
           "#FF6692",
           "#B6E880",
           "#FF97FF",
           "#FECB52"
          ],
          "font": {
           "color": "#2a3f5f"
          },
          "geo": {
           "bgcolor": "white",
           "lakecolor": "white",
           "landcolor": "#E5ECF6",
           "showlakes": true,
           "showland": true,
           "subunitcolor": "white"
          },
          "hoverlabel": {
           "align": "left"
          },
          "hovermode": "closest",
          "mapbox": {
           "style": "light"
          },
          "paper_bgcolor": "white",
          "plot_bgcolor": "#E5ECF6",
          "polar": {
           "angularaxis": {
            "gridcolor": "white",
            "linecolor": "white",
            "ticks": ""
           },
           "bgcolor": "#E5ECF6",
           "radialaxis": {
            "gridcolor": "white",
            "linecolor": "white",
            "ticks": ""
           }
          },
          "scene": {
           "xaxis": {
            "backgroundcolor": "#E5ECF6",
            "gridcolor": "white",
            "gridwidth": 2,
            "linecolor": "white",
            "showbackground": true,
            "ticks": "",
            "zerolinecolor": "white"
           },
           "yaxis": {
            "backgroundcolor": "#E5ECF6",
            "gridcolor": "white",
            "gridwidth": 2,
            "linecolor": "white",
            "showbackground": true,
            "ticks": "",
            "zerolinecolor": "white"
           },
           "zaxis": {
            "backgroundcolor": "#E5ECF6",
            "gridcolor": "white",
            "gridwidth": 2,
            "linecolor": "white",
            "showbackground": true,
            "ticks": "",
            "zerolinecolor": "white"
           }
          },
          "shapedefaults": {
           "line": {
            "color": "#2a3f5f"
           }
          },
          "ternary": {
           "aaxis": {
            "gridcolor": "white",
            "linecolor": "white",
            "ticks": ""
           },
           "baxis": {
            "gridcolor": "white",
            "linecolor": "white",
            "ticks": ""
           },
           "bgcolor": "#E5ECF6",
           "caxis": {
            "gridcolor": "white",
            "linecolor": "white",
            "ticks": ""
           }
          },
          "title": {
           "x": 0.05
          },
          "xaxis": {
           "automargin": true,
           "gridcolor": "white",
           "linecolor": "white",
           "ticks": "",
           "title": {
            "standoff": 15
           },
           "zerolinecolor": "white",
           "zerolinewidth": 2
          },
          "yaxis": {
           "automargin": true,
           "gridcolor": "white",
           "linecolor": "white",
           "ticks": "",
           "title": {
            "standoff": 15
           },
           "zerolinecolor": "white",
           "zerolinewidth": 2
          }
         }
        },
        "title": {
         "text": "Protein to Energy Ratio vs Price (All Categories)"
        },
        "updatemenus": [
         {
          "active": 0,
          "buttons": [
           {
            "args": [
             {
              "visible": [
               false,
               false,
               false,
               false,
               false,
               false,
               false,
               false,
               false,
               false,
               false,
               false,
               false,
               false,
               false,
               false,
               false,
               false,
               false,
               false,
               false,
               false,
               false,
               false,
               false,
               false,
               false,
               false,
               false,
               false,
               false,
               true
              ]
             },
             {
              "title": "Protein to Energy Ratio vs Price (All)"
             }
            ],
            "label": "All",
            "method": "update"
           },
           {
            "args": [
             {
              "visible": [
               true,
               false,
               false,
               false,
               false,
               false,
               false,
               false,
               false,
               false,
               false,
               false,
               false,
               false,
               false,
               false,
               false,
               false,
               false,
               false,
               false,
               false,
               false,
               false,
               false,
               false,
               false,
               false,
               false,
               false,
               false,
               false
              ]
             },
             {
              "title": "Protein to Energy Ratio vs Price (Category: Orange)"
             }
            ],
            "label": "Orange",
            "method": "update"
           },
           {
            "args": [
             {
              "visible": [
               false,
               true,
               false,
               false,
               false,
               false,
               false,
               false,
               false,
               false,
               false,
               false,
               false,
               false,
               false,
               false,
               false,
               false,
               false,
               false,
               false,
               false,
               false,
               false,
               false,
               false,
               false,
               false,
               false,
               false,
               false,
               false
              ]
             },
             {
              "title": "Protein to Energy Ratio vs Price (Category: Events, Inspiration & Ways To Save)"
             }
            ],
            "label": "Events, Inspiration & Ways To Save",
            "method": "update"
           },
           {
            "args": [
             {
              "visible": [
               false,
               false,
               true,
               false,
               false,
               false,
               false,
               false,
               false,
               false,
               false,
               false,
               false,
               false,
               false,
               false,
               false,
               false,
               false,
               false,
               false,
               false,
               false,
               false,
               false,
               false,
               false,
               false,
               false,
               false,
               false,
               false
              ]
             },
             {
              "title": "Protein to Energy Ratio vs Price (Category: Chilled Juice)"
             }
            ],
            "label": "Chilled Juice",
            "method": "update"
           },
           {
            "args": [
             {
              "visible": [
               false,
               false,
               false,
               true,
               false,
               false,
               false,
               false,
               false,
               false,
               false,
               false,
               false,
               false,
               false,
               false,
               false,
               false,
               false,
               false,
               false,
               false,
               false,
               false,
               false,
               false,
               false,
               false,
               false,
               false,
               false,
               false
              ]
             },
             {
              "title": "Protein to Energy Ratio vs Price (Category: Chocolate)"
             }
            ],
            "label": "Chocolate",
            "method": "update"
           },
           {
            "args": [
             {
              "visible": [
               false,
               false,
               false,
               false,
               true,
               false,
               false,
               false,
               false,
               false,
               false,
               false,
               false,
               false,
               false,
               false,
               false,
               false,
               false,
               false,
               false,
               false,
               false,
               false,
               false,
               false,
               false,
               false,
               false,
               false,
               false,
               false
              ]
             },
             {
              "title": "Protein to Energy Ratio vs Price (Category: Tropical & Other Citrus)"
             }
            ],
            "label": "Tropical & Other Citrus",
            "method": "update"
           },
           {
            "args": [
             {
              "visible": [
               false,
               false,
               false,
               false,
               false,
               true,
               false,
               false,
               false,
               false,
               false,
               false,
               false,
               false,
               false,
               false,
               false,
               false,
               false,
               false,
               false,
               false,
               false,
               false,
               false,
               false,
               false,
               false,
               false,
               false,
               false,
               false
              ]
             },
             {
              "title": "Protein to Energy Ratio vs Price (Category: Kids & Lunchbox Drinks)"
             }
            ],
            "label": "Kids & Lunchbox Drinks",
            "method": "update"
           },
           {
            "args": [
             {
              "visible": [
               false,
               false,
               false,
               false,
               false,
               false,
               true,
               false,
               false,
               false,
               false,
               false,
               false,
               false,
               false,
               false,
               false,
               false,
               false,
               false,
               false,
               false,
               false,
               false,
               false,
               false,
               false,
               false,
               false,
               false,
               false,
               false
              ]
             },
             {
              "title": "Protein to Energy Ratio vs Price (Category: Orange Marmalades)"
             }
            ],
            "label": "Orange Marmalades",
            "method": "update"
           },
           {
            "args": [
             {
              "visible": [
               false,
               false,
               false,
               false,
               false,
               false,
               false,
               true,
               false,
               false,
               false,
               false,
               false,
               false,
               false,
               false,
               false,
               false,
               false,
               false,
               false,
               false,
               false,
               false,
               false,
               false,
               false,
               false,
               false,
               false,
               false,
               false
              ]
             },
             {
              "title": "Protein to Energy Ratio vs Price (Category: Ambient Juice)"
             }
            ],
            "label": "Ambient Juice",
            "method": "update"
           },
           {
            "args": [
             {
              "visible": [
               false,
               false,
               false,
               false,
               false,
               false,
               false,
               false,
               true,
               false,
               false,
               false,
               false,
               false,
               false,
               false,
               false,
               false,
               false,
               false,
               false,
               false,
               false,
               false,
               false,
               false,
               false,
               false,
               false,
               false,
               false,
               false
              ]
             },
             {
              "title": "Protein to Energy Ratio vs Price (Category: Biscuits)"
             }
            ],
            "label": "Biscuits",
            "method": "update"
           },
           {
            "args": [
             {
              "visible": [
               false,
               false,
               false,
               false,
               false,
               false,
               false,
               false,
               false,
               true,
               false,
               false,
               false,
               false,
               false,
               false,
               false,
               false,
               false,
               false,
               false,
               false,
               false,
               false,
               false,
               false,
               false,
               false,
               false,
               false,
               false,
               false
              ]
             },
             {
              "title": "Protein to Energy Ratio vs Price (Category: Chilled Smoothies)"
             }
            ],
            "label": "Chilled Smoothies",
            "method": "update"
           },
           {
            "args": [
             {
              "visible": [
               false,
               false,
               false,
               false,
               false,
               false,
               false,
               false,
               false,
               false,
               true,
               false,
               false,
               false,
               false,
               false,
               false,
               false,
               false,
               false,
               false,
               false,
               false,
               false,
               false,
               false,
               false,
               false,
               false,
               false,
               false,
               false
              ]
             },
             {
              "title": "Protein to Energy Ratio vs Price (Category: Gifts)"
             }
            ],
            "label": "Gifts",
            "method": "update"
           },
           {
            "args": [
             {
              "visible": [
               false,
               false,
               false,
               false,
               false,
               false,
               false,
               false,
               false,
               false,
               false,
               true,
               false,
               false,
               false,
               false,
               false,
               false,
               false,
               false,
               false,
               false,
               false,
               false,
               false,
               false,
               false,
               false,
               false,
               false,
               false,
               false
              ]
             },
             {
              "title": "Protein to Energy Ratio vs Price (Category: Bakery & Cakes)"
             }
            ],
            "label": "Bakery & Cakes",
            "method": "update"
           },
           {
            "args": [
             {
              "visible": [
               false,
               false,
               false,
               false,
               false,
               false,
               false,
               false,
               false,
               false,
               false,
               false,
               true,
               false,
               false,
               false,
               false,
               false,
               false,
               false,
               false,
               false,
               false,
               false,
               false,
               false,
               false,
               false,
               false,
               false,
               false,
               false
              ]
             },
             {
              "title": "Protein to Energy Ratio vs Price (Category: Water)"
             }
            ],
            "label": "Water",
            "method": "update"
           },
           {
            "args": [
             {
              "visible": [
               false,
               false,
               false,
               false,
               false,
               false,
               false,
               false,
               false,
               false,
               false,
               false,
               false,
               true,
               false,
               false,
               false,
               false,
               false,
               false,
               false,
               false,
               false,
               false,
               false,
               false,
               false,
               false,
               false,
               false,
               false,
               false
              ]
             },
             {
              "title": "Protein to Energy Ratio vs Price (Category: Frozen)"
             }
            ],
            "label": "Frozen",
            "method": "update"
           },
           {
            "args": [
             {
              "visible": [
               false,
               false,
               false,
               false,
               false,
               false,
               false,
               false,
               false,
               false,
               false,
               false,
               false,
               false,
               true,
               false,
               false,
               false,
               false,
               false,
               false,
               false,
               false,
               false,
               false,
               false,
               false,
               false,
               false,
               false,
               false,
               false
              ]
             },
             {
              "title": "Protein to Energy Ratio vs Price (Category: Rice Pudding & Desserts)"
             }
            ],
            "label": "Rice Pudding & Desserts",
            "method": "update"
           },
           {
            "args": [
             {
              "visible": [
               false,
               false,
               false,
               false,
               false,
               false,
               false,
               false,
               false,
               false,
               false,
               false,
               false,
               false,
               false,
               true,
               false,
               false,
               false,
               false,
               false,
               false,
               false,
               false,
               false,
               false,
               false,
               false,
               false,
               false,
               false,
               false
              ]
             },
             {
              "title": "Protein to Energy Ratio vs Price (Category: Energy & Sports)"
             }
            ],
            "label": "Energy & Sports",
            "method": "update"
           },
           {
            "args": [
             {
              "visible": [
               false,
               false,
               false,
               false,
               false,
               false,
               false,
               false,
               false,
               false,
               false,
               false,
               false,
               false,
               false,
               false,
               true,
               false,
               false,
               false,
               false,
               false,
               false,
               false,
               false,
               false,
               false,
               false,
               false,
               false,
               false,
               false
              ]
             },
             {
              "title": "Protein to Energy Ratio vs Price (Category: Crisps)"
             }
            ],
            "label": "Crisps",
            "method": "update"
           },
           {
            "args": [
             {
              "visible": [
               false,
               false,
               false,
               false,
               false,
               false,
               false,
               false,
               false,
               false,
               false,
               false,
               false,
               false,
               false,
               false,
               false,
               true,
               false,
               false,
               false,
               false,
               false,
               false,
               false,
               false,
               false,
               false,
               false,
               false,
               false,
               false
              ]
             },
             {
              "title": "Protein to Energy Ratio vs Price (Category: Still & Sparkling Fruit Drinks)"
             }
            ],
            "label": "Still & Sparkling Fruit Drinks",
            "method": "update"
           },
           {
            "args": [
             {
              "visible": [
               false,
               false,
               false,
               false,
               false,
               false,
               false,
               false,
               false,
               false,
               false,
               false,
               false,
               false,
               false,
               false,
               false,
               false,
               true,
               false,
               false,
               false,
               false,
               false,
               false,
               false,
               false,
               false,
               false,
               false,
               false,
               false
              ]
             },
             {
              "title": "Protein to Energy Ratio vs Price (Category: Vitamins & Supplements)"
             }
            ],
            "label": "Vitamins & Supplements",
            "method": "update"
           },
           {
            "args": [
             {
              "visible": [
               false,
               false,
               false,
               false,
               false,
               false,
               false,
               false,
               false,
               false,
               false,
               false,
               false,
               false,
               false,
               false,
               false,
               false,
               false,
               true,
               false,
               false,
               false,
               false,
               false,
               false,
               false,
               false,
               false,
               false,
               false,
               false
              ]
             },
             {
              "title": "Protein to Energy Ratio vs Price (Category: World Foods)"
             }
            ],
            "label": "World Foods",
            "method": "update"
           },
           {
            "args": [
             {
              "visible": [
               false,
               false,
               false,
               false,
               false,
               false,
               false,
               false,
               false,
               false,
               false,
               false,
               false,
               false,
               false,
               false,
               false,
               false,
               false,
               false,
               true,
               false,
               false,
               false,
               false,
               false,
               false,
               false,
               false,
               false,
               false,
               false
              ]
             },
             {
              "title": "Protein to Energy Ratio vs Price (Category: Cooked Meats)"
             }
            ],
            "label": "Cooked Meats",
            "method": "update"
           },
           {
            "args": [
             {
              "visible": [
               false,
               false,
               false,
               false,
               false,
               false,
               false,
               false,
               false,
               false,
               false,
               false,
               false,
               false,
               false,
               false,
               false,
               false,
               false,
               false,
               false,
               true,
               false,
               false,
               false,
               false,
               false,
               false,
               false,
               false,
               false,
               false
              ]
             },
             {
              "title": "Protein to Energy Ratio vs Price (Category: Apple, Blackcurrant & Summerfruit)"
             }
            ],
            "label": "Apple, Blackcurrant & Summerfruit",
            "method": "update"
           },
           {
            "args": [
             {
              "visible": [
               false,
               false,
               false,
               false,
               false,
               false,
               false,
               false,
               false,
               false,
               false,
               false,
               false,
               false,
               false,
               false,
               false,
               false,
               false,
               false,
               false,
               false,
               true,
               false,
               false,
               false,
               false,
               false,
               false,
               false,
               false,
               false
              ]
             },
             {
              "title": "Protein to Energy Ratio vs Price (Category: Health & Wellbeing)"
             }
            ],
            "label": "Health & Wellbeing",
            "method": "update"
           },
           {
            "args": [
             {
              "visible": [
               false,
               false,
               false,
               false,
               false,
               false,
               false,
               false,
               false,
               false,
               false,
               false,
               false,
               false,
               false,
               false,
               false,
               false,
               false,
               false,
               false,
               false,
               false,
               true,
               false,
               false,
               false,
               false,
               false,
               false,
               false,
               false
              ]
             },
             {
              "title": "Protein to Energy Ratio vs Price (Category: Mixers & Adult Soft Drinks)"
             }
            ],
            "label": "Mixers & Adult Soft Drinks",
            "method": "update"
           },
           {
            "args": [
             {
              "visible": [
               false,
               false,
               false,
               false,
               false,
               false,
               false,
               false,
               false,
               false,
               false,
               false,
               false,
               false,
               false,
               false,
               false,
               false,
               false,
               false,
               false,
               false,
               false,
               false,
               true,
               false,
               false,
               false,
               false,
               false,
               false,
               false
              ]
             },
             {
              "title": "Protein to Energy Ratio vs Price (Category: Tea & Hot Drinks)"
             }
            ],
            "label": "Tea & Hot Drinks",
            "method": "update"
           },
           {
            "args": [
             {
              "visible": [
               false,
               false,
               false,
               false,
               false,
               false,
               false,
               false,
               false,
               false,
               false,
               false,
               false,
               false,
               false,
               false,
               false,
               false,
               false,
               false,
               false,
               false,
               false,
               false,
               false,
               true,
               false,
               false,
               false,
               false,
               false,
               false
              ]
             },
             {
              "title": "Protein to Energy Ratio vs Price (Category: Lemonade)"
             }
            ],
            "label": "Lemonade",
            "method": "update"
           },
           {
            "args": [
             {
              "visible": [
               false,
               false,
               false,
               false,
               false,
               false,
               false,
               false,
               false,
               false,
               false,
               false,
               false,
               false,
               false,
               false,
               false,
               false,
               false,
               false,
               false,
               false,
               false,
               false,
               false,
               false,
               true,
               false,
               false,
               false,
               false,
               false
              ]
             },
             {
              "title": "Protein to Energy Ratio vs Price (Category: Yogurts)"
             }
            ],
            "label": "Yogurts",
            "method": "update"
           },
           {
            "args": [
             {
              "visible": [
               false,
               false,
               false,
               false,
               false,
               false,
               false,
               false,
               false,
               false,
               false,
               false,
               false,
               false,
               false,
               false,
               false,
               false,
               false,
               false,
               false,
               false,
               false,
               false,
               false,
               false,
               false,
               true,
               false,
               false,
               false,
               false
              ]
             },
             {
              "title": "Protein to Energy Ratio vs Price (Category: Free From)"
             }
            ],
            "label": "Free From",
            "method": "update"
           },
           {
            "args": [
             {
              "visible": [
               false,
               false,
               false,
               false,
               false,
               false,
               false,
               false,
               false,
               false,
               false,
               false,
               false,
               false,
               false,
               false,
               false,
               false,
               false,
               false,
               false,
               false,
               false,
               false,
               false,
               false,
               false,
               false,
               true,
               false,
               false,
               false
              ]
             },
             {
              "title": "Protein to Energy Ratio vs Price (Category: Sports Nutrition)"
             }
            ],
            "label": "Sports Nutrition",
            "method": "update"
           },
           {
            "args": [
             {
              "visible": [
               false,
               false,
               false,
               false,
               false,
               false,
               false,
               false,
               false,
               false,
               false,
               false,
               false,
               false,
               false,
               false,
               false,
               false,
               false,
               false,
               false,
               false,
               false,
               false,
               false,
               false,
               false,
               false,
               false,
               true,
               false,
               false
              ]
             },
             {
              "title": "Protein to Energy Ratio vs Price (Category: Fruit Flavours)"
             }
            ],
            "label": "Fruit Flavours",
            "method": "update"
           },
           {
            "args": [
             {
              "visible": [
               false,
               false,
               false,
               false,
               false,
               false,
               false,
               false,
               false,
               false,
               false,
               false,
               false,
               false,
               false,
               false,
               false,
               false,
               false,
               false,
               false,
               false,
               false,
               false,
               false,
               false,
               false,
               false,
               false,
               false,
               true,
               false
              ]
             },
             {
              "title": "Protein to Energy Ratio vs Price (Category: Food To Go)"
             }
            ],
            "label": "Food To Go",
            "method": "update"
           },
           {
            "args": [
             {
              "visible": [
               false,
               false,
               false,
               false,
               false,
               false,
               false,
               false,
               false,
               false,
               false,
               false,
               false,
               false,
               false,
               false,
               false,
               false,
               false,
               false,
               false,
               false,
               false,
               false,
               false,
               false,
               false,
               false,
               false,
               false,
               false,
               true
              ]
             },
             {
              "title": "Protein to Energy Ratio vs Price (Category: Beer, Wines & Spirits)"
             }
            ],
            "label": "Beer, Wines & Spirits",
            "method": "update"
           }
          ],
          "x": 1.15,
          "y": 1.15
         }
        ],
        "xaxis": {
         "title": {
          "text": "Price"
         }
        },
        "yaxis": {
         "title": {
          "text": "Protein/Energy Ratio"
         }
        }
       }
      }
     },
     "metadata": {},
     "output_type": "display_data"
    }
   ],
   "source": [
    "categories = df_clean['category'].unique()\n",
    "\n",
    "fig = go.Figure()\n",
    "for i, cat in enumerate(categories):\n",
    "    df_cat = df_clean[df_clean['category'] == cat]\n",
    "    fig.add_trace(go.Scatter(\n",
    "        x=df_cat['price'],\n",
    "        y=df_cat['protein_per_energy'],\n",
    "        mode='markers',\n",
    "        marker=dict(\n",
    "            size=11, \n",
    "            color=df_cat['fat_g'],\n",
    "            colorscale='Reds',\n",
    "            colorbar=dict(title='Fat (g)'),\n",
    "            line=dict(width=0)\n",
    "        ),\n",
    "        name=cat,\n",
    "        text=df_cat['title'],\n",
    "        hovertemplate='<b>%{text}</b><br>Price: %{x}<br>Protein/Energy: %{y}<br>Fat: %{marker.color}<extra></extra>',\n",
    "        visible=(i == 0)\n",
    "    ))\n",
    "\n",
    "buttons = []\n",
    "for i, cat in enumerate(categories):\n",
    "    visible = [False] * len(categories)\n",
    "    visible[i] = True\n",
    "    buttons.append(dict(\n",
    "        label=cat,\n",
    "        method='update',\n",
    "        args=[{'visible': visible},\n",
    "              {'title': f'Protein to Energy Ratio vs Price (Category: {cat})'}]\n",
    "    ))\n",
    "\n",
    "buttons.insert(0, dict(\n",
    "    label='All',\n",
    "    method='update',\n",
    "    args=[{'visible': visible},\n",
    "          {'title': 'Protein to Energy Ratio vs Price (All)'}]\n",
    "))\n",
    "\n",
    "fig.update_layout(\n",
    "    updatemenus=[dict(\n",
    "        active=0,\n",
    "        buttons=buttons,\n",
    "        x=1.15,\n",
    "        y=1.15\n",
    "    )],\n",
    "    plot_bgcolor='black',\n",
    "    paper_bgcolor='black',\n",
    "    font_color='white',\n",
    "    title='Protein to Energy Ratio vs Price (All Categories)',\n",
    "    xaxis_title='Price',\n",
    "    yaxis_title='Protein/Energy Ratio',\n",
    ")\n",
    "fig.show()"
   ]
  }
 ],
 "metadata": {
  "kernelspec": {
   "display_name": ".venv",
   "language": "python",
   "name": "python3"
  },
  "language_info": {
   "codemirror_mode": {
    "name": "ipython",
    "version": 3
   },
   "file_extension": ".py",
   "mimetype": "text/x-python",
   "name": "python",
   "nbconvert_exporter": "python",
   "pygments_lexer": "ipython3",
   "version": "3.13.3"
  }
 },
 "nbformat": 4,
 "nbformat_minor": 5
}
