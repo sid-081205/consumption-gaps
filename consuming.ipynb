{
 "cells": [
  {
   "cell_type": "code",
   "execution_count": 9,
   "id": "67ebfbff",
   "metadata": {},
   "outputs": [],
   "source": [
    "import time\n",
    "import pandas as pd\n",
    "import numpy as np\n",
    "from selenium import webdriver\n",
    "from selenium.webdriver.chrome.options import Options\n",
    "from selenium.webdriver.common.by import By\n",
    "from selenium.webdriver.common.keys import Keys\n",
    "from selenium.webdriver.support.ui import WebDriverWait\n",
    "from selenium.webdriver.support import expected_conditions as EC\n",
    "from selenium.common.exceptions import TimeoutException, NoSuchElementException\n",
    "# Ensure the necessary libraries are installed"
   ]
  },
  {
   "cell_type": "code",
   "execution_count": null,
   "id": "bc7eba3a",
   "metadata": {},
   "outputs": [],
   "source": [
    "def inside_product_page(driver, product_url):\n",
    "    "
   ]
  },
  {
   "cell_type": "code",
   "execution_count": null,
   "id": "e4f70825",
   "metadata": {},
   "outputs": [],
   "source": [
    "def get_items(driver):\n",
    "    products = {}\n",
    "    try:\n",
    "        # Wait for the search results to load\n",
    "        WebDriverWait(driver, 10).until(\n",
    "            EC.presence_of_element_located((By.CLASS_NAME, \"pt__link\"))\n",
    "        )\n",
    "    except TimeoutException:\n",
    "        print(\"Search results did not load in time.\")\n",
    "        return products\n",
    "\n",
    "    product_elements = driver.find_elements(By.CLASS_NAME, \"pt\")\n",
    "\n",
    "    for indx, product in enumerate(product_elements):\n",
    "        try:\n",
    "            product_name = product.find_element(By.CLASS_NAME, \"pt__link\").get_attribute(\"title\")\n",
    "            product_price = product.find_element(By.CLASS_NAME, \"pt__cost__retail-price\").text\n",
    "\n",
    "            products[product_name] = product_price\n",
    "\n",
    "        except NoSuchElementException as e:\n",
    "            print(f\"Error retrieving product details for index {indx}: {e}\")\n",
    "            continue\n",
    "\n",
    "    return products  # <-- moved outside the for loop"
   ]
  },
  {
   "cell_type": "code",
   "execution_count": 10,
   "id": "8f1d2b08",
   "metadata": {},
   "outputs": [],
   "source": [
    "def reject_cookies(driver):\n",
    "    try:\n",
    "        # Wait for the cookie banner to appear and reject cookies - CAN TRY DIFFERENT WAY OF LOCATING HTMLS\n",
    "        WebDriverWait(driver, 7).until(\n",
    "            EC.presence_of_element_located((By.ID, \"onetrust-reject-all-handler\")) # wait for the cookie bannr\n",
    "            ).click()\n",
    "    except (TimeoutException, NoSuchElementException):\n",
    "        print(\"Cookie banner not found or already rejected.\")"
   ]
  },
  {
   "cell_type": "code",
   "execution_count": 45,
   "id": "403da3cf",
   "metadata": {},
   "outputs": [],
   "source": [
    "def element_exists(driver, by, value, timeout=5):\n",
    "    try:\n",
    "        WebDriverWait(driver, timeout).until(EC.presence_of_element_located((by, value)))\n",
    "        return True\n",
    "    except TimeoutException:\n",
    "        return False"
   ]
  },
  {
   "cell_type": "markdown",
   "id": "99b0fbe9",
   "metadata": {},
   "source": [
    "try to search by id"
   ]
  },
  {
   "cell_type": "code",
   "execution_count": null,
   "id": "d7488b3b",
   "metadata": {},
   "outputs": [
    {
     "data": {
      "text/html": [
       "<div>\n",
       "<style scoped>\n",
       "    .dataframe tbody tr th:only-of-type {\n",
       "        vertical-align: middle;\n",
       "    }\n",
       "\n",
       "    .dataframe tbody tr th {\n",
       "        vertical-align: top;\n",
       "    }\n",
       "\n",
       "    .dataframe thead th {\n",
       "        text-align: right;\n",
       "    }\n",
       "</style>\n",
       "<table border=\"1\" class=\"dataframe\">\n",
       "  <thead>\n",
       "    <tr style=\"text-align: right;\">\n",
       "      <th></th>\n",
       "      <th>Product</th>\n",
       "      <th>Price</th>\n",
       "    </tr>\n",
       "  </thead>\n",
       "  <tbody>\n",
       "    <tr>\n",
       "      <th>0</th>\n",
       "      <td>Cravendale Filtered Fresh Semi Skimmed Milk 2L...</td>\n",
       "      <td>£2.90</td>\n",
       "    </tr>\n",
       "    <tr>\n",
       "      <th>1</th>\n",
       "      <td>Riddles Mango Ice Tea Blended with Rum 250ml</td>\n",
       "      <td>£2.20</td>\n",
       "    </tr>\n",
       "    <tr>\n",
       "      <th>2</th>\n",
       "      <td>Weetabix Crispy Minis Chocolate Chip 500g</td>\n",
       "      <td>£3.80</td>\n",
       "    </tr>\n",
       "    <tr>\n",
       "      <th>3</th>\n",
       "      <td>Purina One Adult Dry Cat Food Salmon &amp; Wholegr...</td>\n",
       "      <td>£6.00</td>\n",
       "    </tr>\n",
       "    <tr>\n",
       "      <th>4</th>\n",
       "      <td>Sainsbury's Chilli Con Carne, Be Good To Yours...</td>\n",
       "      <td>£3.50</td>\n",
       "    </tr>\n",
       "  </tbody>\n",
       "</table>\n",
       "</div>"
      ],
      "text/plain": [
       "                                             Product  Price\n",
       "0  Cravendale Filtered Fresh Semi Skimmed Milk 2L...  £2.90\n",
       "1       Riddles Mango Ice Tea Blended with Rum 250ml  £2.20\n",
       "2          Weetabix Crispy Minis Chocolate Chip 500g  £3.80\n",
       "3  Purina One Adult Dry Cat Food Salmon & Wholegr...  £6.00\n",
       "4  Sainsbury's Chilli Con Carne, Be Good To Yours...  £3.50"
      ]
     },
     "execution_count": 50,
     "metadata": {},
     "output_type": "execute_result"
    }
   ],
   "source": [
    "url =  \"https://www.sainsburys.co.uk\"\n",
    "\n",
    "driver = webdriver.Chrome()\n",
    "driver.get(url)\n",
    "\n",
    "reject_cookies(driver)\n",
    "search = driver.find_element(By.ID, \"term\")\n",
    "search.clear()  # Clear the search field if needed\n",
    "\n",
    "for char in \"milk\":\n",
    "    search.send_keys(char)  # Type each character into the search field\n",
    "    time.sleep(0.5)  # Wait for half a second between keystrokes\n",
    "search.send_keys(Keys.RETURN)   # Press Enter to submit the search\n",
    "\n",
    "all_items = {}\n",
    "\n",
    "if element_exists(driver, By.CLASS_NAME, \"conditional-render-wrapper\"):\n",
    "\n",
    "    # Loop while the next button exists and is not disabled\n",
    "    while True:\n",
    "        all_items.update(get_items(driver))\n",
    "        next_buttons = driver.find_elements(By.CSS_SELECTOR, \"[rel='next']\")\n",
    "        if not next_buttons:\n",
    "            break\n",
    "        next_button = next_buttons[0]\n",
    "        # Check if the next button has the 'is-disabled' class\n",
    "        if 'is-disabled' in next_button.get_attribute('class'):\n",
    "            break\n",
    "        next_button.click()\n",
    "        WebDriverWait(driver, 10).until(\n",
    "            EC.presence_of_element_located((By.CLASS_NAME, \"pt\"))\n",
    "        )\n",
    "\n",
    "else:\n",
    "    all_items.update(get_items(driver))\n",
    "\n",
    "df = pd.DataFrame(all_items.items(), columns=['Product', 'Price'])\n",
    "\n",
    "df  # display the DataFrame"
   ]
  },
  {
   "cell_type": "code",
   "execution_count": 16,
   "id": "06b6a45c",
   "metadata": {},
   "outputs": [
    {
     "name": "stdout",
     "output_type": "stream",
     "text": [
      "/Users/siddharthgianchandani/Desktop/vscode projects/consumption-gaps/.venv/bin/python\n"
     ]
    }
   ],
   "source": [
    "import sys\n",
    "print(sys.executable)"
   ]
  },
  {
   "cell_type": "markdown",
   "id": "c0d21fe1",
   "metadata": {},
   "source": []
  },
  {
   "cell_type": "code",
   "execution_count": null,
   "id": "ab4980d3",
   "metadata": {},
   "outputs": [],
   "source": []
  }
 ],
 "metadata": {
  "kernelspec": {
   "display_name": "venv",
   "language": "python",
   "name": "python3"
  },
  "language_info": {
   "codemirror_mode": {
    "name": "ipython",
    "version": 3
   },
   "file_extension": ".py",
   "mimetype": "text/x-python",
   "name": "python",
   "nbconvert_exporter": "python",
   "pygments_lexer": "ipython3",
   "version": "3.13.3"
  }
 },
 "nbformat": 4,
 "nbformat_minor": 5
}
