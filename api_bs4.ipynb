{
 "cells": [
  {
   "cell_type": "code",
   "execution_count": 64,
   "id": "64823324",
   "metadata": {},
   "outputs": [],
   "source": [
    "import requests\n",
    "from fake_useragent import UserAgent\n",
    "from IPython.display import display, HTML\n",
    "import pandas as pd\n",
    "import scrapy\n",
    "from bs4 import BeautifulSoup\n",
    "from requests_html import HTMLSession, AsyncHTMLSession\n",
    "import nest_asyncio"
   ]
  },
  {
   "cell_type": "code",
   "execution_count": 45,
   "id": "5accaa47",
   "metadata": {},
   "outputs": [],
   "source": [
    "def get_info(query, page_num):\n",
    "    url = f'https://www.sainsburys.co.uk/groceries-api/gol-services/product/v1/product?filter[keyword]={query}&include[PRODUCT_AD]=citrus&citrus_max_number_ads=5&page_number={page_num}&page_size=60&sort_order=FAVOURITES_FIRST&salesWindow=1'\n",
    "    response = requests.get(url, headers=headers)\n",
    "    data = response.json()\n",
    "    \n",
    "    if not data['products']:\n",
    "        return pd.DataFrame()\n",
    "    \n",
    "    products = []\n",
    "    for product in data['products']:\n",
    "        products.append({\n",
    "            'name': product['name'],\n",
    "            'price': product['retail_price']['price'],\n",
    "            'link': product['full_url']\n",
    "        })\n",
    "    \n",
    "    return pd.DataFrame(products)"
   ]
  },
  {
   "cell_type": "code",
   "execution_count": 46,
   "id": "13e2d1f6",
   "metadata": {},
   "outputs": [
    {
     "name": "stderr",
     "output_type": "stream",
     "text": [
      "/var/folders/zz/k81wn_s93cdffqmg3682c6dc0000gn/T/ipykernel_72259/2238383281.py:14: FutureWarning: The behavior of DataFrame concatenation with empty or all-NA entries is deprecated. In a future version, this will no longer exclude empty or all-NA columns when determining the result dtypes. To retain the old behavior, exclude the relevant entries before the concat operation.\n",
      "  df = pd.concat([df, temp_df], ignore_index=True)\n"
     ]
    },
    {
     "data": {
      "text/html": [
       "<div>\n",
       "<style scoped>\n",
       "    .dataframe tbody tr th:only-of-type {\n",
       "        vertical-align: middle;\n",
       "    }\n",
       "\n",
       "    .dataframe tbody tr th {\n",
       "        vertical-align: top;\n",
       "    }\n",
       "\n",
       "    .dataframe thead th {\n",
       "        text-align: right;\n",
       "    }\n",
       "</style>\n",
       "<table border=\"1\" class=\"dataframe\">\n",
       "  <thead>\n",
       "    <tr style=\"text-align: right;\">\n",
       "      <th></th>\n",
       "      <th>name</th>\n",
       "      <th>price</th>\n",
       "      <th>link</th>\n",
       "    </tr>\n",
       "  </thead>\n",
       "  <tbody>\n",
       "    <tr>\n",
       "      <th>0</th>\n",
       "      <td>Sainsbury's Fairtrade Bananas Loose</td>\n",
       "      <td>0.90</td>\n",
       "      <td>https://www.sainsburys.co.uk/shop/gb/groceries...</td>\n",
       "    </tr>\n",
       "    <tr>\n",
       "      <th>1</th>\n",
       "      <td>Sainsbury's Fairtrade Bananas x5</td>\n",
       "      <td>0.78</td>\n",
       "      <td>https://www.sainsburys.co.uk/shop/gb/groceries...</td>\n",
       "    </tr>\n",
       "    <tr>\n",
       "      <th>2</th>\n",
       "      <td>Sainsbury's Fairtrade Bananas x8</td>\n",
       "      <td>1.25</td>\n",
       "      <td>https://www.sainsburys.co.uk/shop/gb/groceries...</td>\n",
       "    </tr>\n",
       "    <tr>\n",
       "      <th>3</th>\n",
       "      <td>Sainsbury's Small Bananas, Fairtrade x8</td>\n",
       "      <td>1.00</td>\n",
       "      <td>https://www.sainsburys.co.uk/shop/gb/groceries...</td>\n",
       "    </tr>\n",
       "    <tr>\n",
       "      <th>4</th>\n",
       "      <td>Sainsbury's Fairtrade Bananas, SO Organic x6</td>\n",
       "      <td>1.80</td>\n",
       "      <td>https://www.sainsburys.co.uk/shop/gb/groceries...</td>\n",
       "    </tr>\n",
       "    <tr>\n",
       "      <th>...</th>\n",
       "      <td>...</td>\n",
       "      <td>...</td>\n",
       "      <td>...</td>\n",
       "    </tr>\n",
       "    <tr>\n",
       "      <th>140</th>\n",
       "      <td>Sainsbury's Glace Cherries 200g</td>\n",
       "      <td>1.80</td>\n",
       "      <td>https://www.sainsburys.co.uk/shop/gb/groceries...</td>\n",
       "    </tr>\n",
       "    <tr>\n",
       "      <th>141</th>\n",
       "      <td>Sainsbury's Chopped Mixed Nuts 200g</td>\n",
       "      <td>1.75</td>\n",
       "      <td>https://www.sainsburys.co.uk/shop/gb/groceries...</td>\n",
       "    </tr>\n",
       "    <tr>\n",
       "      <th>142</th>\n",
       "      <td>Askeys Treat Chocolate Dessert Sauce 325g</td>\n",
       "      <td>1.75</td>\n",
       "      <td>https://www.sainsburys.co.uk/shop/gb/groceries...</td>\n",
       "    </tr>\n",
       "    <tr>\n",
       "      <th>143</th>\n",
       "      <td>Sainsbury's Almonds Chopped 100g</td>\n",
       "      <td>1.70</td>\n",
       "      <td>https://www.sainsburys.co.uk/shop/gb/groceries...</td>\n",
       "    </tr>\n",
       "    <tr>\n",
       "      <th>144</th>\n",
       "      <td>Askeys Treat Strawberry Dessert Sauce 325g</td>\n",
       "      <td>1.75</td>\n",
       "      <td>https://www.sainsburys.co.uk/shop/gb/groceries...</td>\n",
       "    </tr>\n",
       "  </tbody>\n",
       "</table>\n",
       "<p>145 rows × 3 columns</p>\n",
       "</div>"
      ],
      "text/plain": [
       "                                             name  price  \\\n",
       "0             Sainsbury's Fairtrade Bananas Loose   0.90   \n",
       "1                Sainsbury's Fairtrade Bananas x5   0.78   \n",
       "2                Sainsbury's Fairtrade Bananas x8   1.25   \n",
       "3         Sainsbury's Small Bananas, Fairtrade x8   1.00   \n",
       "4    Sainsbury's Fairtrade Bananas, SO Organic x6   1.80   \n",
       "..                                            ...    ...   \n",
       "140               Sainsbury's Glace Cherries 200g   1.80   \n",
       "141           Sainsbury's Chopped Mixed Nuts 200g   1.75   \n",
       "142     Askeys Treat Chocolate Dessert Sauce 325g   1.75   \n",
       "143              Sainsbury's Almonds Chopped 100g   1.70   \n",
       "144    Askeys Treat Strawberry Dessert Sauce 325g   1.75   \n",
       "\n",
       "                                                  link  \n",
       "0    https://www.sainsburys.co.uk/shop/gb/groceries...  \n",
       "1    https://www.sainsburys.co.uk/shop/gb/groceries...  \n",
       "2    https://www.sainsburys.co.uk/shop/gb/groceries...  \n",
       "3    https://www.sainsburys.co.uk/shop/gb/groceries...  \n",
       "4    https://www.sainsburys.co.uk/shop/gb/groceries...  \n",
       "..                                                 ...  \n",
       "140  https://www.sainsburys.co.uk/shop/gb/groceries...  \n",
       "141  https://www.sainsburys.co.uk/shop/gb/groceries...  \n",
       "142  https://www.sainsburys.co.uk/shop/gb/groceries...  \n",
       "143  https://www.sainsburys.co.uk/shop/gb/groceries...  \n",
       "144  https://www.sainsburys.co.uk/shop/gb/groceries...  \n",
       "\n",
       "[145 rows x 3 columns]"
      ]
     },
     "execution_count": 46,
     "metadata": {},
     "output_type": "execute_result"
    }
   ],
   "source": [
    "ua = UserAgent()\n",
    "headers = {'User-Agent': ua.random} #randomly generated user agent\n",
    "\n",
    "\n",
    "if ' ' in query:\n",
    "    query = query.replace(' ', '_')\n",
    "\n",
    "df = pd.DataFrame(columns=['name', 'price', 'link'])\n",
    "for page in range(1, 100):\n",
    "    temp_df = get_info(\"banana\", page)\n",
    "    if temp_df.empty:\n",
    "        break\n",
    "    else:\n",
    "        df = pd.concat([df, temp_df], ignore_index=True)\n",
    "\n",
    "df\n"
   ]
  },
  {
   "cell_type": "markdown",
   "id": "e4efe49f",
   "metadata": {},
   "source": []
  },
  {
   "cell_type": "markdown",
   "id": "e864036c",
   "metadata": {},
   "source": [
    "## So selenium is going to take too much time and beauitful soup can't access dynamic content?? - need to use something else. i think scrapy might work - trying that out!"
   ]
  },
  {
   "cell_type": "code",
   "execution_count": null,
   "id": "28e8d0a9",
   "metadata": {},
   "outputs": [
    {
     "name": "stdout",
     "output_type": "stream",
     "text": [
      "<html>\n",
      " <head>\n",
      "  <title>\n",
      "   Access Denied\n",
      "  </title>\n",
      " </head>\n",
      " <body>\n",
      "  <h1>\n",
      "   Access Denied\n",
      "  </h1>\n",
      "  You don't have permission to access \"http://www.sainsburys.co.uk/gol-ui/product/sainsburys-loose-fairtrade-bananas\" on this server.\n",
      "  <p>\n",
      "   Reference #18.263f655f.1749225903.9b8eead\n",
      "   <p>\n",
      "    https://errors.edgesuite.net/18.263f655f.1749225903.9b8eead\n",
      "   </p>\n",
      "  </p>\n",
      " </body>\n",
      "</html>\n",
      "\n"
     ]
    }
   ],
   "source": [
    "session = HTMLSession()\n",
    "r = session.get(\"https://www.sainsburys.co.uk/gol-ui/product/sainsburys-loose-fairtrade-bananas\")\n",
    "\n",
    "soup = BeautifulSoup(r.content, 'html.parser')\n",
    "print(soup.prettify())"
   ]
  },
  {
   "cell_type": "code",
   "execution_count": 66,
   "id": "61af8386",
   "metadata": {},
   "outputs": [
    {
     "name": "stdout",
     "output_type": "stream",
     "text": [
      "<html><head>\n",
      "<title>Access Denied</title>\n",
      "</head><body>\n",
      "<h1>Access Denied</h1>\n",
      " \n",
      "You don't have permission to access \"http://www.sainsburys.co.uk/gol-ui/product/sainsburys-loose-fairtrade-bananas\" on this server.<p>\n",
      "Reference #18.acc2645f.1749227622.8c1dc3e\n",
      "</p><p>https://errors.edgesuite.net/18.acc2645f.1749227622.8c1dc3e</p>\n",
      "\n",
      "\n",
      "</body></html>\n"
     ]
    },
    {
     "data": {
      "text/html": [
       "<html><head>\n",
       "<title>Access Denied</title>\n",
       "</head><body>\n",
       "<h1>Access Denied</h1>\n",
       " \n",
       "You don't have permission to access \"http://www.sainsburys.co.uk/gol-ui/product/sainsburys-loose-fairtrade-bananas\" on this server.<p>\n",
       "Reference #18.acc2645f.1749227622.8c1dc3e\n",
       "</p><p>https://errors.edgesuite.net/18.acc2645f.1749227622.8c1dc3e</p>\n",
       "\n",
       "\n",
       "</body></html>"
      ],
      "text/plain": [
       "<IPython.core.display.HTML object>"
      ]
     },
     "metadata": {},
     "output_type": "display_data"
    }
   ],
   "source": [
    "nest_asyncio.apply()\n",
    "\n",
    "product_url = \"https://www.sainsburys.co.uk/gol-ui/product/sainsburys-loose-fairtrade-bananas\"\n",
    "asession = AsyncHTMLSession()\n",
    "\n",
    "async def scrape_product_page(url):\n",
    "    response = await asession.get(url)\n",
    "    await response.html.arender()\n",
    "    return response.html.html\n",
    "\n",
    "html_content = await scrape_product_page(product_url)\n",
    "print(html_content)\n",
    "display(HTML(html_content))\n",
    "\n",
    "# so since nutrition values are in a dynamic dropdown, we need to scrape the page with something else"
   ]
  },
  {
   "cell_type": "markdown",
   "id": "7ca398df",
   "metadata": {},
   "source": [
    "## wow, no hidden api, selenium gonna take too much time and can't parse html with requests"
   ]
  }
 ],
 "metadata": {
  "kernelspec": {
   "display_name": ".venv",
   "language": "python",
   "name": "python3"
  },
  "language_info": {
   "codemirror_mode": {
    "name": "ipython",
    "version": 3
   },
   "file_extension": ".py",
   "mimetype": "text/x-python",
   "name": "python",
   "nbconvert_exporter": "python",
   "pygments_lexer": "ipython3",
   "version": "3.13.3"
  }
 },
 "nbformat": 4,
 "nbformat_minor": 5
}
